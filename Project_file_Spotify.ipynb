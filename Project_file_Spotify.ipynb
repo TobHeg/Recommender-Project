{
 "cells": [
  {
   "cell_type": "markdown",
   "metadata": {
    "slideshow": {
     "slide_type": "slide"
    }
   },
   "source": [
    "# Recommender App\n",
    "## By Tobias"
   ]
  },
  {
   "cell_type": "markdown",
   "metadata": {
    "slideshow": {
     "slide_type": "subslide"
    }
   },
   "source": [
    "### Overview\n",
    "In this Notebook I'd like to present my approach on a music recommendation engine, based on 183.000 songs in the library and weekly updated Billboards Top100."
   ]
  },
  {
   "cell_type": "markdown",
   "metadata": {
    "slideshow": {
     "slide_type": "slide"
    }
   },
   "source": [
    "## 1.0 Libraries"
   ]
  },
  {
   "cell_type": "code",
   "execution_count": 1,
   "metadata": {
    "slideshow": {
     "slide_type": "subslide"
    }
   },
   "outputs": [],
   "source": [
    "from IPython.display import display # get ipython for nicer output\n",
    "import pandas as pd # to build dataframe\n",
    "from tkinter import * # to have drop.down menues\n",
    "import numpy as np\n",
    "from tkinter import ttk\n",
    "from sklearn.preprocessing import StandardScaler\n",
    "from sklearn.cluster import KMeans\n",
    "from matplotlib import pyplot\n",
    "from sklearn.metrics import silhouette_score\n",
    "from IPython.display import IFrame\n"
   ]
  },
  {
   "cell_type": "markdown",
   "metadata": {
    "slideshow": {
     "slide_type": "slide"
    }
   },
   "source": [
    "## 1.1 Load Data"
   ]
  },
  {
   "cell_type": "code",
   "execution_count": 2,
   "metadata": {
    "slideshow": {
     "slide_type": "fragment"
    }
   },
   "outputs": [],
   "source": [
    "# Load current hot list\n",
    "Top100=pd.read_csv('data/Top100.csv')"
   ]
  },
  {
   "cell_type": "code",
   "execution_count": 3,
   "metadata": {
    "slideshow": {
     "slide_type": "fragment"
    }
   },
   "outputs": [],
   "source": [
    "# load song data\n",
    "df=pd.read_csv('data/song_data.csv')"
   ]
  },
  {
   "cell_type": "code",
   "execution_count": 4,
   "metadata": {
    "slideshow": {
     "slide_type": "fragment"
    }
   },
   "outputs": [],
   "source": [
    "# drop old index column\n",
    "df = df.drop(['Unnamed: 0'], axis=1)"
   ]
  },
  {
   "cell_type": "code",
   "execution_count": 5,
   "metadata": {
    "slideshow": {
     "slide_type": "skip"
    }
   },
   "outputs": [
    {
     "data": {
      "text/plain": [
       "0    audio_features\n",
       "1    audio_features\n",
       "2    audio_features\n",
       "3    audio_features\n",
       "4    audio_features\n",
       "Name: type, dtype: object"
      ]
     },
     "execution_count": 5,
     "metadata": {},
     "output_type": "execute_result"
    }
   ],
   "source": [
    "df['type'].head()"
   ]
  },
  {
   "cell_type": "code",
   "execution_count": 6,
   "metadata": {
    "slideshow": {
     "slide_type": "skip"
    }
   },
   "outputs": [
    {
     "name": "stdout",
     "output_type": "stream",
     "text": [
      "<class 'pandas.core.frame.DataFrame'>\n",
      "RangeIndex: 222313 entries, 0 to 222312\n",
      "Data columns (total 21 columns):\n",
      " #   Column            Non-Null Count   Dtype  \n",
      "---  ------            --------------   -----  \n",
      " 0   danceability      222313 non-null  float64\n",
      " 1   energy            222313 non-null  float64\n",
      " 2   key               222313 non-null  int64  \n",
      " 3   loudness          222313 non-null  float64\n",
      " 4   mode              222313 non-null  int64  \n",
      " 5   speechiness       222313 non-null  float64\n",
      " 6   acousticness      222313 non-null  float64\n",
      " 7   instrumentalness  222313 non-null  float64\n",
      " 8   liveness          222313 non-null  float64\n",
      " 9   valence           222313 non-null  float64\n",
      " 10  tempo             222313 non-null  float64\n",
      " 11  type              222313 non-null  object \n",
      " 12  id                222313 non-null  object \n",
      " 13  uri               222313 non-null  object \n",
      " 14  track_href        222313 non-null  object \n",
      " 15  analysis_url      222313 non-null  object \n",
      " 16  duration_ms       222313 non-null  int64  \n",
      " 17  time_signature    222313 non-null  int64  \n",
      " 18  track_name        222313 non-null  object \n",
      " 19  artist_name       222313 non-null  object \n",
      " 20  artist_id         222313 non-null  object \n",
      "dtypes: float64(9), int64(4), object(8)\n",
      "memory usage: 35.6+ MB\n"
     ]
    }
   ],
   "source": [
    "df.info()"
   ]
  },
  {
   "cell_type": "markdown",
   "metadata": {
    "slideshow": {
     "slide_type": "slide"
    }
   },
   "source": [
    "### Create new field my lookup is based on"
   ]
  },
  {
   "cell_type": "code",
   "execution_count": 7,
   "metadata": {
    "slideshow": {
     "slide_type": "subslide"
    }
   },
   "outputs": [
    {
     "name": "stdout",
     "output_type": "stream",
     "text": [
      "222313\n",
      "182846\n"
     ]
    }
   ],
   "source": [
    "# merge song title and artist together and write to a list\n",
    "df['title_artist'] = df['track_name'].str.cat(others=df['artist_name'],sep='  BY  ')\n",
    "# make lower case\n",
    "df['title_artist'] = df['title_artist'].str.lower()\n",
    "# drop duplicates\n",
    "print(df['title_artist'].count())\n",
    "df.drop_duplicates(subset=['title_artist'], keep='first', inplace=True, ignore_index=True)\n",
    "print(df['title_artist'].count())"
   ]
  },
  {
   "cell_type": "code",
   "execution_count": 8,
   "metadata": {
    "slideshow": {
     "slide_type": "skip"
    }
   },
   "outputs": [
    {
     "data": {
      "text/plain": [
       "0               aaj ka ye din  by  kalyanji-anandji\n",
       "1        main hoon tere samne  by  kalyanji-anandji\n",
       "2        dulha dulhan ki jodi  by  kalyanji-anandji\n",
       "3    ankh zhapak te khel gaye  by  kalyanji-anandji\n",
       "4        pyare tere pyar mein  by  kalyanji-anandji\n",
       "Name: title_artist, dtype: object"
      ]
     },
     "execution_count": 8,
     "metadata": {},
     "output_type": "execute_result"
    }
   ],
   "source": [
    "df['title_artist'].head()"
   ]
  },
  {
   "cell_type": "code",
   "execution_count": 9,
   "metadata": {
    "slideshow": {
     "slide_type": "skip"
    }
   },
   "outputs": [],
   "source": [
    "# Create an alphabetical list of all the available songs\n",
    "#songlist = []\n",
    "#for i in range(len(df['title_artist'])):\n",
    "#    songlist.append(df['title_artist'][i])\n",
    "#songlist = sorted(songlist)"
   ]
  },
  {
   "cell_type": "markdown",
   "metadata": {
    "slideshow": {
     "slide_type": "slide"
    }
   },
   "source": [
    "## 2. Building the KMeans Model"
   ]
  },
  {
   "cell_type": "markdown",
   "metadata": {
    "slideshow": {
     "slide_type": "subslide"
    }
   },
   "source": [
    "## 2.1. Preparing the data"
   ]
  },
  {
   "cell_type": "code",
   "execution_count": 10,
   "metadata": {
    "slideshow": {
     "slide_type": "fragment"
    }
   },
   "outputs": [
    {
     "data": {
      "text/html": [
       "<div>\n",
       "<style scoped>\n",
       "    .dataframe tbody tr th:only-of-type {\n",
       "        vertical-align: middle;\n",
       "    }\n",
       "\n",
       "    .dataframe tbody tr th {\n",
       "        vertical-align: top;\n",
       "    }\n",
       "\n",
       "    .dataframe thead th {\n",
       "        text-align: right;\n",
       "    }\n",
       "</style>\n",
       "<table border=\"1\" class=\"dataframe\">\n",
       "  <thead>\n",
       "    <tr style=\"text-align: right;\">\n",
       "      <th></th>\n",
       "      <th>danceability</th>\n",
       "      <th>energy</th>\n",
       "      <th>key</th>\n",
       "      <th>loudness</th>\n",
       "      <th>mode</th>\n",
       "      <th>speechiness</th>\n",
       "      <th>acousticness</th>\n",
       "      <th>instrumentalness</th>\n",
       "      <th>liveness</th>\n",
       "      <th>valence</th>\n",
       "      <th>tempo</th>\n",
       "    </tr>\n",
       "  </thead>\n",
       "  <tbody>\n",
       "    <tr>\n",
       "      <th>0</th>\n",
       "      <td>0.491</td>\n",
       "      <td>0.698</td>\n",
       "      <td>1</td>\n",
       "      <td>-8.913</td>\n",
       "      <td>1</td>\n",
       "      <td>0.0503</td>\n",
       "      <td>0.669</td>\n",
       "      <td>0.000012</td>\n",
       "      <td>0.4520</td>\n",
       "      <td>0.827</td>\n",
       "      <td>106.624</td>\n",
       "    </tr>\n",
       "    <tr>\n",
       "      <th>1</th>\n",
       "      <td>0.500</td>\n",
       "      <td>0.472</td>\n",
       "      <td>9</td>\n",
       "      <td>-9.487</td>\n",
       "      <td>0</td>\n",
       "      <td>0.0309</td>\n",
       "      <td>0.712</td>\n",
       "      <td>0.000569</td>\n",
       "      <td>0.2630</td>\n",
       "      <td>0.693</td>\n",
       "      <td>109.250</td>\n",
       "    </tr>\n",
       "    <tr>\n",
       "      <th>2</th>\n",
       "      <td>0.517</td>\n",
       "      <td>0.621</td>\n",
       "      <td>5</td>\n",
       "      <td>-8.660</td>\n",
       "      <td>1</td>\n",
       "      <td>0.2230</td>\n",
       "      <td>0.773</td>\n",
       "      <td>0.000000</td>\n",
       "      <td>0.1460</td>\n",
       "      <td>0.782</td>\n",
       "      <td>111.710</td>\n",
       "    </tr>\n",
       "    <tr>\n",
       "      <th>3</th>\n",
       "      <td>0.409</td>\n",
       "      <td>0.352</td>\n",
       "      <td>3</td>\n",
       "      <td>-11.444</td>\n",
       "      <td>1</td>\n",
       "      <td>0.0310</td>\n",
       "      <td>0.709</td>\n",
       "      <td>0.000000</td>\n",
       "      <td>0.2650</td>\n",
       "      <td>0.516</td>\n",
       "      <td>138.004</td>\n",
       "    </tr>\n",
       "    <tr>\n",
       "      <th>4</th>\n",
       "      <td>0.641</td>\n",
       "      <td>0.654</td>\n",
       "      <td>10</td>\n",
       "      <td>-10.219</td>\n",
       "      <td>1</td>\n",
       "      <td>0.1220</td>\n",
       "      <td>0.653</td>\n",
       "      <td>0.000000</td>\n",
       "      <td>0.0733</td>\n",
       "      <td>0.736</td>\n",
       "      <td>100.351</td>\n",
       "    </tr>\n",
       "  </tbody>\n",
       "</table>\n",
       "</div>"
      ],
      "text/plain": [
       "   danceability  energy  key  loudness  mode  speechiness  acousticness  \\\n",
       "0         0.491   0.698    1    -8.913     1       0.0503         0.669   \n",
       "1         0.500   0.472    9    -9.487     0       0.0309         0.712   \n",
       "2         0.517   0.621    5    -8.660     1       0.2230         0.773   \n",
       "3         0.409   0.352    3   -11.444     1       0.0310         0.709   \n",
       "4         0.641   0.654   10   -10.219     1       0.1220         0.653   \n",
       "\n",
       "   instrumentalness  liveness  valence    tempo  \n",
       "0          0.000012    0.4520    0.827  106.624  \n",
       "1          0.000569    0.2630    0.693  109.250  \n",
       "2          0.000000    0.1460    0.782  111.710  \n",
       "3          0.000000    0.2650    0.516  138.004  \n",
       "4          0.000000    0.0733    0.736  100.351  "
      ]
     },
     "execution_count": 10,
     "metadata": {},
     "output_type": "execute_result"
    }
   ],
   "source": [
    "# compiling the features into a designated dataframe\n",
    "df_features = df.drop(['type','id','uri','track_href','analysis_url','duration_ms','time_signature','track_name','artist_name','artist_id','title_artist'],axis=1)\n",
    "df_features.head()                       "
   ]
  },
  {
   "cell_type": "markdown",
   "metadata": {
    "slideshow": {
     "slide_type": "slide"
    }
   },
   "source": [
    "## 2.2 Scaling the features"
   ]
  },
  {
   "cell_type": "code",
   "execution_count": 11,
   "metadata": {
    "slideshow": {
     "slide_type": "subslide"
    }
   },
   "outputs": [
    {
     "data": {
      "text/html": [
       "<div>\n",
       "<style scoped>\n",
       "    .dataframe tbody tr th:only-of-type {\n",
       "        vertical-align: middle;\n",
       "    }\n",
       "\n",
       "    .dataframe tbody tr th {\n",
       "        vertical-align: top;\n",
       "    }\n",
       "\n",
       "    .dataframe thead th {\n",
       "        text-align: right;\n",
       "    }\n",
       "</style>\n",
       "<table border=\"1\" class=\"dataframe\">\n",
       "  <thead>\n",
       "    <tr style=\"text-align: right;\">\n",
       "      <th></th>\n",
       "      <th>danceability</th>\n",
       "      <th>energy</th>\n",
       "      <th>key</th>\n",
       "      <th>loudness</th>\n",
       "      <th>mode</th>\n",
       "      <th>speechiness</th>\n",
       "      <th>acousticness</th>\n",
       "      <th>instrumentalness</th>\n",
       "      <th>liveness</th>\n",
       "      <th>valence</th>\n",
       "      <th>tempo</th>\n",
       "    </tr>\n",
       "  </thead>\n",
       "  <tbody>\n",
       "    <tr>\n",
       "      <th>0</th>\n",
       "      <td>-0.457822</td>\n",
       "      <td>0.308414</td>\n",
       "      <td>-1.187239</td>\n",
       "      <td>0.009805</td>\n",
       "      <td>0.787163</td>\n",
       "      <td>-0.391332</td>\n",
       "      <td>1.191884</td>\n",
       "      <td>-0.627617</td>\n",
       "      <td>1.092214</td>\n",
       "      <td>1.515025</td>\n",
       "      <td>-0.503410</td>\n",
       "    </tr>\n",
       "    <tr>\n",
       "      <th>1</th>\n",
       "      <td>-0.408076</td>\n",
       "      <td>-0.609575</td>\n",
       "      <td>1.029808</td>\n",
       "      <td>-0.103078</td>\n",
       "      <td>-1.270385</td>\n",
       "      <td>-0.540643</td>\n",
       "      <td>1.324135</td>\n",
       "      <td>-0.625991</td>\n",
       "      <td>0.192504</td>\n",
       "      <td>0.984287</td>\n",
       "      <td>-0.414648</td>\n",
       "    </tr>\n",
       "    <tr>\n",
       "      <th>2</th>\n",
       "      <td>-0.314110</td>\n",
       "      <td>-0.004353</td>\n",
       "      <td>-0.078715</td>\n",
       "      <td>0.059560</td>\n",
       "      <td>0.787163</td>\n",
       "      <td>0.937847</td>\n",
       "      <td>1.511747</td>\n",
       "      <td>-0.627653</td>\n",
       "      <td>-0.364460</td>\n",
       "      <td>1.336792</td>\n",
       "      <td>-0.331497</td>\n",
       "    </tr>\n",
       "    <tr>\n",
       "      <th>3</th>\n",
       "      <td>-0.911069</td>\n",
       "      <td>-1.097003</td>\n",
       "      <td>-0.632977</td>\n",
       "      <td>-0.487941</td>\n",
       "      <td>0.787163</td>\n",
       "      <td>-0.539874</td>\n",
       "      <td>1.314908</td>\n",
       "      <td>-0.627653</td>\n",
       "      <td>0.202025</td>\n",
       "      <td>0.283238</td>\n",
       "      <td>0.557273</td>\n",
       "    </tr>\n",
       "    <tr>\n",
       "      <th>4</th>\n",
       "      <td>0.371287</td>\n",
       "      <td>0.129690</td>\n",
       "      <td>1.306939</td>\n",
       "      <td>-0.247033</td>\n",
       "      <td>0.787163</td>\n",
       "      <td>0.160504</td>\n",
       "      <td>1.142675</td>\n",
       "      <td>-0.627653</td>\n",
       "      <td>-0.710538</td>\n",
       "      <td>1.154598</td>\n",
       "      <td>-0.715445</td>\n",
       "    </tr>\n",
       "  </tbody>\n",
       "</table>\n",
       "</div>"
      ],
      "text/plain": [
       "   danceability    energy       key  loudness      mode  speechiness  \\\n",
       "0     -0.457822  0.308414 -1.187239  0.009805  0.787163    -0.391332   \n",
       "1     -0.408076 -0.609575  1.029808 -0.103078 -1.270385    -0.540643   \n",
       "2     -0.314110 -0.004353 -0.078715  0.059560  0.787163     0.937847   \n",
       "3     -0.911069 -1.097003 -0.632977 -0.487941  0.787163    -0.539874   \n",
       "4      0.371287  0.129690  1.306939 -0.247033  0.787163     0.160504   \n",
       "\n",
       "   acousticness  instrumentalness  liveness   valence     tempo  \n",
       "0      1.191884         -0.627617  1.092214  1.515025 -0.503410  \n",
       "1      1.324135         -0.625991  0.192504  0.984287 -0.414648  \n",
       "2      1.511747         -0.627653 -0.364460  1.336792 -0.331497  \n",
       "3      1.314908         -0.627653  0.202025  0.283238  0.557273  \n",
       "4      1.142675         -0.627653 -0.710538  1.154598 -0.715445  "
      ]
     },
     "metadata": {},
     "output_type": "display_data"
    }
   ],
   "source": [
    "scaler = StandardScaler()\n",
    "scaler.fit(df_features)\n",
    "X_scaled = scaler.transform(df_features)\n",
    "X_scaled_df = pd.DataFrame(X_scaled, columns = df_features.columns)\n",
    "display(X_scaled_df.head())"
   ]
  },
  {
   "cell_type": "markdown",
   "metadata": {
    "slideshow": {
     "slide_type": "slide"
    }
   },
   "source": [
    "## 2.3 Clustering the songs"
   ]
  },
  {
   "cell_type": "code",
   "execution_count": 12,
   "metadata": {
    "slideshow": {
     "slide_type": "subslide"
    }
   },
   "outputs": [
    {
     "data": {
      "text/plain": [
       "KMeans(n_clusters=7, random_state=666)"
      ]
     },
     "execution_count": 12,
     "metadata": {},
     "output_type": "execute_result"
    }
   ],
   "source": [
    "kmeans = KMeans(n_clusters=7, random_state=666)\n",
    "kmeans.fit(X_scaled_df)"
   ]
  },
  {
   "cell_type": "code",
   "execution_count": 13,
   "metadata": {
    "slideshow": {
     "slide_type": "slide"
    }
   },
   "outputs": [
    {
     "data": {
      "text/plain": [
       "0    27763\n",
       "1    14116\n",
       "2     5106\n",
       "3    54559\n",
       "4    15215\n",
       "5    27198\n",
       "6    38889\n",
       "dtype: int64"
      ]
     },
     "execution_count": 13,
     "metadata": {},
     "output_type": "execute_result"
    }
   ],
   "source": [
    "# count number of songs per cluster\n",
    "\n",
    "clusters = kmeans.predict(X_scaled_df)\n",
    "#clusters\n",
    "pd.Series(clusters).value_counts().sort_index()"
   ]
  },
  {
   "cell_type": "markdown",
   "metadata": {
    "slideshow": {
     "slide_type": "skip"
    }
   },
   "source": [
    "## 2.4 Find optimal K"
   ]
  },
  {
   "cell_type": "markdown",
   "metadata": {
    "slideshow": {
     "slide_type": "skip"
    }
   },
   "source": [
    "K = range(2, 21)\n",
    "inertia = []\n",
    "\n",
    "for k in K:\n",
    "    print(\"Training a K-Means model with {} clusters! \".format(k))\n",
    "    print()\n",
    "    kmeans = KMeans(n_clusters=k,\n",
    "                    random_state=666)\n",
    "    kmeans.fit(X_scaled_df)\n",
    "    inertia.append(kmeans.inertia_)\n",
    "\n",
    "import numpy as np\n",
    "import matplotlib.pyplot as plt\n",
    "%matplotlib inline\n",
    "\n",
    "plt.figure(figsize=(16,8))\n",
    "plt.plot(K, inertia, 'bx-')\n",
    "plt.xlabel('k')\n",
    "plt.ylabel('inertia')\n",
    "plt.xticks(np.arange(min(K), max(K)+1, 1.0))\n",
    "plt.title('Elbow Method showing the optimal k')"
   ]
  },
  {
   "cell_type": "markdown",
   "metadata": {
    "slideshow": {
     "slide_type": "slide"
    }
   },
   "source": [
    "## 2.5 Bring the songs and the clusters together"
   ]
  },
  {
   "cell_type": "code",
   "execution_count": 14,
   "metadata": {
    "slideshow": {
     "slide_type": "subslide"
    }
   },
   "outputs": [
    {
     "data": {
      "text/html": [
       "<div>\n",
       "<style scoped>\n",
       "    .dataframe tbody tr th:only-of-type {\n",
       "        vertical-align: middle;\n",
       "    }\n",
       "\n",
       "    .dataframe tbody tr th {\n",
       "        vertical-align: top;\n",
       "    }\n",
       "\n",
       "    .dataframe thead th {\n",
       "        text-align: right;\n",
       "    }\n",
       "</style>\n",
       "<table border=\"1\" class=\"dataframe\">\n",
       "  <thead>\n",
       "    <tr style=\"text-align: right;\">\n",
       "      <th></th>\n",
       "      <th>danceability</th>\n",
       "      <th>energy</th>\n",
       "      <th>key</th>\n",
       "      <th>loudness</th>\n",
       "      <th>mode</th>\n",
       "      <th>speechiness</th>\n",
       "      <th>acousticness</th>\n",
       "      <th>instrumentalness</th>\n",
       "      <th>liveness</th>\n",
       "      <th>valence</th>\n",
       "      <th>...</th>\n",
       "      <th>uri</th>\n",
       "      <th>track_href</th>\n",
       "      <th>analysis_url</th>\n",
       "      <th>duration_ms</th>\n",
       "      <th>time_signature</th>\n",
       "      <th>track_name</th>\n",
       "      <th>artist_name</th>\n",
       "      <th>artist_id</th>\n",
       "      <th>title_artist</th>\n",
       "      <th>cluster</th>\n",
       "    </tr>\n",
       "  </thead>\n",
       "  <tbody>\n",
       "    <tr>\n",
       "      <th>0</th>\n",
       "      <td>0.491</td>\n",
       "      <td>0.698</td>\n",
       "      <td>1</td>\n",
       "      <td>-8.913</td>\n",
       "      <td>1</td>\n",
       "      <td>0.0503</td>\n",
       "      <td>0.669</td>\n",
       "      <td>0.000012</td>\n",
       "      <td>0.4520</td>\n",
       "      <td>0.827</td>\n",
       "      <td>...</td>\n",
       "      <td>spotify:track:2OGawqjrXSuT9REyNfDo6w</td>\n",
       "      <td>https://api.spotify.com/v1/tracks/2OGawqjrXSuT...</td>\n",
       "      <td>https://api.spotify.com/v1/audio-analysis/2OGa...</td>\n",
       "      <td>301857</td>\n",
       "      <td>4</td>\n",
       "      <td>Aaj Ka Ye Din</td>\n",
       "      <td>Kalyanji-Anandji</td>\n",
       "      <td>7pWXlTjky0KXWgbdZi9ebq</td>\n",
       "      <td>aaj ka ye din  by  kalyanji-anandji</td>\n",
       "      <td>3</td>\n",
       "    </tr>\n",
       "    <tr>\n",
       "      <th>1</th>\n",
       "      <td>0.500</td>\n",
       "      <td>0.472</td>\n",
       "      <td>9</td>\n",
       "      <td>-9.487</td>\n",
       "      <td>0</td>\n",
       "      <td>0.0309</td>\n",
       "      <td>0.712</td>\n",
       "      <td>0.000569</td>\n",
       "      <td>0.2630</td>\n",
       "      <td>0.693</td>\n",
       "      <td>...</td>\n",
       "      <td>spotify:track:5DdZw9x5dLgpzXjj6GHxIn</td>\n",
       "      <td>https://api.spotify.com/v1/tracks/5DdZw9x5dLgp...</td>\n",
       "      <td>https://api.spotify.com/v1/audio-analysis/5DdZ...</td>\n",
       "      <td>279518</td>\n",
       "      <td>4</td>\n",
       "      <td>Main Hoon Tere Samne</td>\n",
       "      <td>Kalyanji-Anandji</td>\n",
       "      <td>7pWXlTjky0KXWgbdZi9ebq</td>\n",
       "      <td>main hoon tere samne  by  kalyanji-anandji</td>\n",
       "      <td>5</td>\n",
       "    </tr>\n",
       "    <tr>\n",
       "      <th>2</th>\n",
       "      <td>0.517</td>\n",
       "      <td>0.621</td>\n",
       "      <td>5</td>\n",
       "      <td>-8.660</td>\n",
       "      <td>1</td>\n",
       "      <td>0.2230</td>\n",
       "      <td>0.773</td>\n",
       "      <td>0.000000</td>\n",
       "      <td>0.1460</td>\n",
       "      <td>0.782</td>\n",
       "      <td>...</td>\n",
       "      <td>spotify:track:3Ho6oTWwISyvTI2y0TqrjP</td>\n",
       "      <td>https://api.spotify.com/v1/tracks/3Ho6oTWwISyv...</td>\n",
       "      <td>https://api.spotify.com/v1/audio-analysis/3Ho6...</td>\n",
       "      <td>364712</td>\n",
       "      <td>4</td>\n",
       "      <td>Dulha Dulhan Ki Jodi</td>\n",
       "      <td>Kalyanji-Anandji</td>\n",
       "      <td>7pWXlTjky0KXWgbdZi9ebq</td>\n",
       "      <td>dulha dulhan ki jodi  by  kalyanji-anandji</td>\n",
       "      <td>3</td>\n",
       "    </tr>\n",
       "    <tr>\n",
       "      <th>3</th>\n",
       "      <td>0.409</td>\n",
       "      <td>0.352</td>\n",
       "      <td>3</td>\n",
       "      <td>-11.444</td>\n",
       "      <td>1</td>\n",
       "      <td>0.0310</td>\n",
       "      <td>0.709</td>\n",
       "      <td>0.000000</td>\n",
       "      <td>0.2650</td>\n",
       "      <td>0.516</td>\n",
       "      <td>...</td>\n",
       "      <td>spotify:track:0eOfVox5SIKMmSAi9ayd7J</td>\n",
       "      <td>https://api.spotify.com/v1/tracks/0eOfVox5SIKM...</td>\n",
       "      <td>https://api.spotify.com/v1/audio-analysis/0eOf...</td>\n",
       "      <td>93519</td>\n",
       "      <td>3</td>\n",
       "      <td>Ankh Zhapak Te Khel Gaye</td>\n",
       "      <td>Kalyanji-Anandji</td>\n",
       "      <td>7pWXlTjky0KXWgbdZi9ebq</td>\n",
       "      <td>ankh zhapak te khel gaye  by  kalyanji-anandji</td>\n",
       "      <td>5</td>\n",
       "    </tr>\n",
       "    <tr>\n",
       "      <th>4</th>\n",
       "      <td>0.641</td>\n",
       "      <td>0.654</td>\n",
       "      <td>10</td>\n",
       "      <td>-10.219</td>\n",
       "      <td>1</td>\n",
       "      <td>0.1220</td>\n",
       "      <td>0.653</td>\n",
       "      <td>0.000000</td>\n",
       "      <td>0.0733</td>\n",
       "      <td>0.736</td>\n",
       "      <td>...</td>\n",
       "      <td>spotify:track:0XhArL19uo3LVvpWWCY9Zu</td>\n",
       "      <td>https://api.spotify.com/v1/tracks/0XhArL19uo3L...</td>\n",
       "      <td>https://api.spotify.com/v1/audio-analysis/0XhA...</td>\n",
       "      <td>300053</td>\n",
       "      <td>4</td>\n",
       "      <td>Pyare Tere Pyar Mein</td>\n",
       "      <td>Kalyanji-Anandji</td>\n",
       "      <td>7pWXlTjky0KXWgbdZi9ebq</td>\n",
       "      <td>pyare tere pyar mein  by  kalyanji-anandji</td>\n",
       "      <td>3</td>\n",
       "    </tr>\n",
       "  </tbody>\n",
       "</table>\n",
       "<p>5 rows × 23 columns</p>\n",
       "</div>"
      ],
      "text/plain": [
       "   danceability  energy  key  loudness  mode  speechiness  acousticness  \\\n",
       "0         0.491   0.698    1    -8.913     1       0.0503         0.669   \n",
       "1         0.500   0.472    9    -9.487     0       0.0309         0.712   \n",
       "2         0.517   0.621    5    -8.660     1       0.2230         0.773   \n",
       "3         0.409   0.352    3   -11.444     1       0.0310         0.709   \n",
       "4         0.641   0.654   10   -10.219     1       0.1220         0.653   \n",
       "\n",
       "   instrumentalness  liveness  valence  ...  \\\n",
       "0          0.000012    0.4520    0.827  ...   \n",
       "1          0.000569    0.2630    0.693  ...   \n",
       "2          0.000000    0.1460    0.782  ...   \n",
       "3          0.000000    0.2650    0.516  ...   \n",
       "4          0.000000    0.0733    0.736  ...   \n",
       "\n",
       "                                    uri  \\\n",
       "0  spotify:track:2OGawqjrXSuT9REyNfDo6w   \n",
       "1  spotify:track:5DdZw9x5dLgpzXjj6GHxIn   \n",
       "2  spotify:track:3Ho6oTWwISyvTI2y0TqrjP   \n",
       "3  spotify:track:0eOfVox5SIKMmSAi9ayd7J   \n",
       "4  spotify:track:0XhArL19uo3LVvpWWCY9Zu   \n",
       "\n",
       "                                          track_href  \\\n",
       "0  https://api.spotify.com/v1/tracks/2OGawqjrXSuT...   \n",
       "1  https://api.spotify.com/v1/tracks/5DdZw9x5dLgp...   \n",
       "2  https://api.spotify.com/v1/tracks/3Ho6oTWwISyv...   \n",
       "3  https://api.spotify.com/v1/tracks/0eOfVox5SIKM...   \n",
       "4  https://api.spotify.com/v1/tracks/0XhArL19uo3L...   \n",
       "\n",
       "                                        analysis_url duration_ms  \\\n",
       "0  https://api.spotify.com/v1/audio-analysis/2OGa...      301857   \n",
       "1  https://api.spotify.com/v1/audio-analysis/5DdZ...      279518   \n",
       "2  https://api.spotify.com/v1/audio-analysis/3Ho6...      364712   \n",
       "3  https://api.spotify.com/v1/audio-analysis/0eOf...       93519   \n",
       "4  https://api.spotify.com/v1/audio-analysis/0XhA...      300053   \n",
       "\n",
       "  time_signature                track_name       artist_name  \\\n",
       "0              4             Aaj Ka Ye Din  Kalyanji-Anandji   \n",
       "1              4      Main Hoon Tere Samne  Kalyanji-Anandji   \n",
       "2              4      Dulha Dulhan Ki Jodi  Kalyanji-Anandji   \n",
       "3              3  Ankh Zhapak Te Khel Gaye  Kalyanji-Anandji   \n",
       "4              4      Pyare Tere Pyar Mein  Kalyanji-Anandji   \n",
       "\n",
       "                artist_id                                    title_artist  \\\n",
       "0  7pWXlTjky0KXWgbdZi9ebq             aaj ka ye din  by  kalyanji-anandji   \n",
       "1  7pWXlTjky0KXWgbdZi9ebq      main hoon tere samne  by  kalyanji-anandji   \n",
       "2  7pWXlTjky0KXWgbdZi9ebq      dulha dulhan ki jodi  by  kalyanji-anandji   \n",
       "3  7pWXlTjky0KXWgbdZi9ebq  ankh zhapak te khel gaye  by  kalyanji-anandji   \n",
       "4  7pWXlTjky0KXWgbdZi9ebq      pyare tere pyar mein  by  kalyanji-anandji   \n",
       "\n",
       "  cluster  \n",
       "0       3  \n",
       "1       5  \n",
       "2       3  \n",
       "3       5  \n",
       "4       3  \n",
       "\n",
       "[5 rows x 23 columns]"
      ]
     },
     "execution_count": 14,
     "metadata": {},
     "output_type": "execute_result"
    }
   ],
   "source": [
    "df['cluster'] = clusters\n",
    "df.head()"
   ]
  },
  {
   "cell_type": "markdown",
   "metadata": {
    "slideshow": {
     "slide_type": "slide"
    }
   },
   "source": [
    "\n",
    "\n",
    "## 3 Loading Spotify"
   ]
  },
  {
   "cell_type": "code",
   "execution_count": 15,
   "metadata": {
    "slideshow": {
     "slide_type": "subslide"
    }
   },
   "outputs": [],
   "source": [
    "# Import credentials\n",
    "\n",
    "import config\n",
    "\n",
    "# Load Libraries and pass credentials to spotify API\n",
    "\n",
    "import spotipy\n",
    "import json\n",
    "from spotipy.oauth2 import SpotifyClientCredentials\n",
    "import pprint\n",
    "import pandas as pd\n",
    "\n",
    "sp = spotipy.Spotify(auth_manager=SpotifyClientCredentials(client_id=config.c_id, client_secret=config.c_se))"
   ]
  },
  {
   "cell_type": "markdown",
   "metadata": {
    "slideshow": {
     "slide_type": "skip"
    }
   },
   "source": [
    "user_input = input(\"What's you favorite Song:\") # user input\n",
    "user_input = user_input.lower()\n",
    "if (df['Title'].str.lower() == user_input).any():\n",
    "    #df_exclude = df.drop(user_input.title(),axis=0)\n",
    "    print('You might also like:')\n",
    "    print(df['title_artist'].sample(n=1).values[0])\n",
    "else:\n",
    "    print('Unfortunately, the song is not in the hot list!')"
   ]
  },
  {
   "cell_type": "markdown",
   "metadata": {
    "slideshow": {
     "slide_type": "slide"
    }
   },
   "source": [
    "## 4. Recommender"
   ]
  },
  {
   "cell_type": "code",
   "execution_count": 18,
   "metadata": {
    "slideshow": {
     "slide_type": "subslide"
    }
   },
   "outputs": [
    {
     "name": "stdout",
     "output_type": "stream",
     "text": [
      "Your choice: arcade fire\n",
      "There are more than one song containing \"arcade fire\"\n",
      "Select the song from choices: \n",
      "0: (antichrist television blues)  by  arcade fire\n",
      "1: afterlife  by  arcade fire\n",
      "2: apocrypha  by  arcade fire\n",
      "3: awful sound (oh eurydice)  by  arcade fire\n",
      "4: baby mine - from \"dumbo\"/soundtrack version  by  arcade fire\n",
      "5: black mirror  by  arcade fire\n",
      "6: black wave / bad vibrations  by  arcade fire\n",
      "7: chemistry  by  arcade fire\n",
      "8: city with no children  by  arcade fire\n",
      "9: creature comfort  by  arcade fire\n",
      "10: crown of love  by  arcade fire\n",
      "11: crucified again  by  arcade fire\n",
      "12: culture war  by  arcade fire\n",
      "13: deep blue  by  arcade fire\n",
      "14: dimensions  by  arcade fire\n",
      "15: divorce papers  by  arcade fire\n",
      "16: electric blue  by  arcade fire\n",
      "17: empty room  by  arcade fire\n",
      "18: everything now  by  arcade fire\n",
      "19: everything now (continued)  by  arcade fire\n",
      "20: everything now (todo ya) - remix por bomba estéreo  by  arcade fire\n",
      "21: everything now - recorded at spotify studios nyc  by  arcade fire\n",
      "22: everything_now (continued)  by  arcade fire\n",
      "23: flashbulb eyes  by  arcade fire\n",
      "24: flashbulb eyes - dennis bovell remix  by  arcade fire\n",
      "25: get right  by  arcade fire\n",
      "26: good god damn  by  arcade fire\n",
      "27: haiti  by  arcade fire\n",
      "28: half light i  by  arcade fire\n",
      "29: half light ii (no celebration)  by  arcade fire\n",
      "30: here comes the night time  by  arcade fire\n",
      "31: here comes the night time ii  by  arcade fire\n",
      "32: in the backseat  by  arcade fire\n",
      "33: infinite content  by  arcade fire\n",
      "34: infinite_content  by  arcade fire\n",
      "35: intervention  by  arcade fire\n",
      "36: it's never over (hey orpheus)  by  arcade fire\n",
      "37: joan of arc  by  arcade fire\n",
      "38: keep the car running  by  arcade fire\n",
      "39: loneliness #3 (night talking)  by  arcade fire\n",
      "40: loneliness #4 (other people's letters)  by  arcade fire\n",
      "41: milk & honey #1  by  arcade fire\n",
      "42: milk & honey #2  by  arcade fire\n",
      "43: mind games - recorded at spotify studios nyc  by  arcade fire\n",
      "44: modern man  by  arcade fire\n",
      "45: month of may  by  arcade fire\n",
      "46: morning talk / supersymmetry  by  arcade fire\n",
      "47: my body is a cage  by  arcade fire\n",
      "48: neighborhood #1 (tunnels)  by  arcade fire\n",
      "49: neighborhood #2 (laika)  by  arcade fire\n",
      "50: neighborhood #3 (power out)  by  arcade fire\n",
      "51: neighborhood #4 (7 kettles)  by  arcade fire\n",
      "52: neon bible  by  arcade fire\n",
      "53: no cars go  by  arcade fire\n",
      "54: normal person  by  arcade fire\n",
      "55: ocean of noise  by  arcade fire\n",
      "56: peter pan  by  arcade fire\n",
      "57: peter pan (feat. bobby blackbird) - equiknoxx remix  by  arcade fire\n",
      "58: photograph  by  arcade fire\n",
      "59: porno  by  arcade fire\n",
      "60: put your money on me  by  arcade fire\n",
      "61: put your money on me - single version  by  arcade fire\n",
      "62: put your money on me - steve mackey remix  by  arcade fire\n",
      "63: ready to start  by  arcade fire\n",
      "64: rebellion (lies)  by  arcade fire\n",
      "65: reflektor  by  arcade fire\n",
      "66: rococo  by  arcade fire\n",
      "67: signs of life  by  arcade fire\n",
      "68: sleepwalker  by  arcade fire\n",
      "69: soft power  by  arcade fire\n",
      "70: some other place  by  arcade fire\n",
      "71: song on the beach  by  arcade fire\n",
      "72: speaking in tongues (feat. david byrne)  by  arcade fire\n",
      "73: sprawl i (flatland)  by  arcade fire\n",
      "74: sprawl ii (mountains beyond mountains)  by  arcade fire\n",
      "75: suburban war  by  arcade fire\n",
      "76: supersymmetry  by  arcade fire\n",
      "77: the suburbs  by  arcade fire\n",
      "78: the suburbs (continued)  by  arcade fire\n",
      "79: the well and the lighthouse  by  arcade fire\n",
      "80: une annee sans lumiere  by  arcade fire\n",
      "81: wake up  by  arcade fire\n",
      "82: wasted hours  by  arcade fire\n",
      "83: wasted hours (a life we can live)  by  arcade fire\n",
      "84: we don't deserve love  by  arcade fire\n",
      "85: we exist  by  arcade fire\n",
      "86: we used to wait  by  arcade fire\n",
      "87: we're all leaving  by  arcade fire\n",
      "88: windowsill  by  arcade fire\n",
      "89: women of a certain age  by  arcade fire\n",
      "90: you already know  by  arcade fire\n",
      "\n",
      "Enter choice number: 77\n",
      "\n",
      "Selected song: the suburbs  by  arcade fire\n",
      "Your song is currently NOT hot!\n"
     ]
    },
    {
     "data": {
      "text/html": [
       "\n",
       "        <iframe\n",
       "            width=\"320\"\n",
       "            height=\"80\"\n",
       "            src=\"https://open.spotify.com/embed/track/4esS3584y3Mjvbqg0FE6Uj?frameborder=0&allowtransparency=true&allow=encrypted-media\"\n",
       "            frameborder=\"0\"\n",
       "            allowfullscreen\n",
       "        ></iframe>\n",
       "        "
      ],
      "text/plain": [
       "<IPython.lib.display.IFrame at 0x2748a346bb0>"
      ]
     },
     "metadata": {},
     "output_type": "display_data"
    },
    {
     "name": "stdout",
     "output_type": "stream",
     "text": [
      "\n",
      "But you might also like:\n",
      "mirror signal  by  lexurus\n"
     ]
    },
    {
     "data": {
      "text/html": [
       "\n",
       "        <iframe\n",
       "            width=\"320\"\n",
       "            height=\"80\"\n",
       "            src=\"https://open.spotify.com/embed/track/4pMyqy2V19qZS3rEzfo8SX?frameborder=0&allowtransparency=true&allow=encrypted-media\"\n",
       "            frameborder=\"0\"\n",
       "            allowfullscreen\n",
       "        ></iframe>\n",
       "        "
      ],
      "text/plain": [
       "<IPython.lib.display.IFrame at 0x274f6a0f220>"
      ]
     },
     "metadata": {},
     "output_type": "display_data"
    }
   ],
   "source": [
    "user_input = input(\"Your choice: \")\n",
    "user_input_low = user_input.lower()\n",
    "track_name_iterator = filter(lambda x: user_input_low in x, df['title_artist'])\n",
    "filtered_songs = sorted(list(track_name_iterator))\n",
    "\n",
    "# More than 1 song left after filtering --> build a selection\n",
    "if len(filtered_songs) > 1:\n",
    "    # Deal with more than one song.\n",
    "    print('There are more than one song containing \"{0}\"'.format(user_input))\n",
    "    print('Select the song from choices: ')\n",
    "    for index, name in enumerate(filtered_songs):\n",
    "        print(\"{0}: {1}\".format(index, name))\n",
    "        \n",
    "# Ask for a choice from the list\n",
    "    index = int(input(\"\\nEnter choice number: \"))\n",
    "    # Check if song is in hot list\n",
    "    if Top100['title_artist'].str.contains(filtered_songs[index], case=False).sum() > 0:\n",
    "        song_id = (df['id'][df['title_artist'] == filtered_songs[index]]).values[0]\n",
    "        hot = Top100['title_artist'].sample(n=1).values[0]\n",
    "        print('Your song is very HOT at the moment!')\n",
    "        display(IFrame(src=f\"https://open.spotify.com/embed/track/{song_id}\",\n",
    "           width=\"320\",\n",
    "           height=\"80\",\n",
    "           frameborder=\"0\",\n",
    "           allowtransparency=\"true\",\n",
    "           allow=\"encrypted-media\",\n",
    "          ))                                   \n",
    "        print('\\nYou know what is also in the top?:\\n')\n",
    "        print(hot)\n",
    "        # Is the randomly chosen title from the top list in the big list? If yes, call the spotify widget!\n",
    "        if (df['title_artist'] == hot).sum() > 0:\n",
    "            hot_id = (df['id'][df['title_artist'] == hot]).values[0]\n",
    "            display(IFrame(src=f\"https://open.spotify.com/embed/track/{hot_id}\",\n",
    "               width=\"320\",\n",
    "               height=\"80\",\n",
    "               frameborder=\"0\",\n",
    "               allowtransparency=\"true\",\n",
    "               allow=\"encrypted-media\",\n",
    "              ))\n",
    "        else: pass \n",
    "    else:\n",
    "        song_id = (df['id'][df['title_artist'] == filtered_songs[index]]).values[0]\n",
    "        song_cluster = (df['cluster'][df['title_artist'] == filtered_songs[index]]).values[0]\n",
    "        suggestion = (df['title_artist'][df['cluster'] == song_cluster]).sample(n=1).values[0]\n",
    "        suggestion_id = (df['id'][df['title_artist'] == suggestion]).values[0]\n",
    "        print('\\nSelected song: {0}'.format(filtered_songs[index]))\n",
    "        print('Your song is currently NOT hot!')\n",
    " \n",
    "        display(IFrame(src=f\"https://open.spotify.com/embed/track/{song_id}\",\n",
    "           width=\"320\",\n",
    "           height=\"80\",\n",
    "           frameborder=\"0\",\n",
    "           allowtransparency=\"true\",\n",
    "           allow=\"encrypted-media\",\n",
    "          ))\n",
    "        print('\\nBut you might also like:\\n' + suggestion)\n",
    "        display(IFrame(src=f\"https://open.spotify.com/embed/track/{suggestion_id}\",\n",
    "           width=\"320\",\n",
    "           height=\"80\",\n",
    "           frameborder=\"0\",\n",
    "           allowtransparency=\"true\",\n",
    "           allow=\"encrypted-media\",\n",
    "          ))\n",
    "\n",
    "# If there's only one song after filtering    \n",
    "elif len(filtered_songs) == 1:\n",
    "    # Only one song found, so print that song.\n",
    "    # check if the song is in the hot list\n",
    "    if Top100['title_artist'].str.contains(filtered_songs[0], case=False).sum() > 0:\n",
    "        song_id = (df['id'][df['title_artist'] == filtered_songs[0]]).values[0]\n",
    "        hot = Top100['title_artist'].sample(n=1).values[0]\n",
    "        print('Your song is very HOT at the moment!')\n",
    "        display(IFrame(src=f\"https://open.spotify.com/embed/track/{song_id}\",\n",
    "           width=\"320\",\n",
    "           height=\"80\",\n",
    "           frameborder=\"0\",\n",
    "           allowtransparency=\"true\",\n",
    "           allow=\"encrypted-media\",\n",
    "          ))\n",
    "        print('\\nYou know what is also in the top?:\\n')\n",
    "        print(hot)\n",
    "        # Is the randomly chosen title from the top list in the big list? If yes, call the spotify widget!\n",
    "        if (df['title_artist'] == hot).sum() > 0:\n",
    "            hot_id = (df['id'][df['title_artist'] == hot]).values[0]\n",
    "            display(IFrame(src=f\"https://open.spotify.com/embed/track/{hot_id}\",\n",
    "               width=\"320\",\n",
    "               height=\"80\",\n",
    "               frameborder=\"0\",\n",
    "               allowtransparency=\"true\",\n",
    "               allow=\"encrypted-media\",\n",
    "              ))\n",
    "        else: pass\n",
    "    else:\n",
    "        song_id = (df['id'][df['title_artist'] == filtered_songs[0]]).values[0]\n",
    "        song_cluster = (df['cluster'][df['title_artist'] == filtered_songs[0]]).values[0]\n",
    "        suggestion = (df['title_artist'][df['cluster'] == song_cluster]).sample(n=1).values[0]\n",
    "        suggestion_id = (df['id'][df['title_artist'] == suggestion]).values[0]\n",
    "        print('\\nSelected song: {0}'.format(filtered_songs[0]))\n",
    "        print('Your song is currently NOT hot!')\n",
    "        display(IFrame(src=f\"https://open.spotify.com/embed/track/{song_id}\",\n",
    "           width=\"320\",\n",
    "           height=\"80\",\n",
    "           frameborder=\"0\",\n",
    "           allowtransparency=\"true\",\n",
    "           allow=\"encrypted-media\",\n",
    "          ))\n",
    "        print('\\nBut you might also like:\\n' + suggestion)\n",
    "        display(IFrame(src=f\"https://open.spotify.com/embed/track/{suggestion_id}\",\n",
    "           width=\"320\",\n",
    "           height=\"80\",\n",
    "           frameborder=\"0\",\n",
    "           allowtransparency=\"true\",\n",
    "           allow=\"encrypted-media\",\n",
    "          ))\n",
    "else:\n",
    "    print('Unfortunately, there is no song containing \"{0}\" in the list!'.format(user_input))"
   ]
  },
  {
   "cell_type": "code",
   "execution_count": null,
   "metadata": {},
   "outputs": [],
   "source": []
  }
 ],
 "metadata": {
  "celltoolbar": "Slideshow",
  "interpreter": {
   "hash": "9c829346dbfeebf68e991a09823a010cd364a5faadbed445a3ecf1e247d421bf"
  },
  "kernelspec": {
   "display_name": "Python 3 (ipykernel)",
   "language": "python",
   "name": "python3"
  },
  "language_info": {
   "codemirror_mode": {
    "name": "ipython",
    "version": 3
   },
   "file_extension": ".py",
   "mimetype": "text/x-python",
   "name": "python",
   "nbconvert_exporter": "python",
   "pygments_lexer": "ipython3",
   "version": "3.9.6"
  }
 },
 "nbformat": 4,
 "nbformat_minor": 2
}
