{
 "cells": [
  {
   "cell_type": "markdown",
   "metadata": {},
   "source": [
    "## 1.0 Libraries"
   ]
  },
  {
   "cell_type": "code",
   "execution_count": 4,
   "metadata": {},
   "outputs": [],
   "source": [
    "from IPython.display import display # get ipython for nicer output\n",
    "import pandas as pd # to build dataframe\n",
    "from tkinter import * # to have drop.down menues\n",
    "import numpy as np\n",
    "from tkinter import ttk"
   ]
  },
  {
   "cell_type": "markdown",
   "metadata": {},
   "source": [
    "## 1.1 Load Data"
   ]
  },
  {
   "cell_type": "code",
   "execution_count": 5,
   "metadata": {},
   "outputs": [],
   "source": [
    "df=pd.read_csv('data/Top100.csv')"
   ]
  },
  {
   "cell_type": "code",
   "execution_count": 6,
   "metadata": {},
   "outputs": [],
   "source": [
    "# merge song title and artist together and write to a list\n",
    "df['Title - Artist'] = df['Title'].str.cat(others=df['Artist'],sep=' - ')"
   ]
  },
  {
   "cell_type": "code",
   "execution_count": 7,
   "metadata": {},
   "outputs": [],
   "source": [
    "# Create an alphabetical list of all the available songs\n",
    "songlist = []\n",
    "for i in range(len(df['Title - Artist'])):\n",
    "    songlist.append(df['Title - Artist'][i])\n",
    "songlist = sorted(songlist)"
   ]
  },
  {
   "cell_type": "markdown",
   "metadata": {},
   "source": [
    "## 2.1 Regular version"
   ]
  },
  {
   "cell_type": "code",
   "execution_count": 168,
   "metadata": {},
   "outputs": [
    {
     "name": "stdout",
     "output_type": "stream",
     "text": [
      "You might also like:\n",
      "Message In A Bottle (Taylor's Version) (From The Vault) - Taylor Swift\n"
     ]
    }
   ],
   "source": [
    "user_input = input(\"What's you favorite Song:\") # user input\n",
    "user_input = user_input.lower()\n",
    "if (df['Title'].str.lower() == user_input).any():\n",
    "    #df_exclude = df.drop(user_input.title(),axis=0)\n",
    "    print('You might also like:')\n",
    "    print(df['Title - Artist'].sample(n=1).values[0])\n",
    "else:\n",
    "    print('Unfortunately, the song is not in the hot list!')"
   ]
  },
  {
   "cell_type": "markdown",
   "metadata": {},
   "source": [
    "## 2.2 Tkinter OptionsMenu"
   ]
  },
  {
   "cell_type": "code",
   "execution_count": 190,
   "metadata": {},
   "outputs": [],
   "source": [
    "root = Tk()\n",
    "root.title('Song Recommender by Tobias')\n",
    "root.geometry('400x400')\n",
    "\n",
    "def output():\n",
    "    if (df['Title - Artist'] == selected.get()).any():\n",
    "        out = 'You might also like:\\n' + df['Title - Artist'].sample(n=1).values[0]\n",
    "    else:\n",
    "        out = 'Unfortunately, the song is not in the hot list!'\n",
    "    myLabel = Label(root,text=out).pack()\n",
    "\n",
    "selected = StringVar()\n",
    "\n",
    "#drop = ttk.Combobox(root, textvariable=selected, values=songlist)\n",
    "drop = OptionMenu(root, selected, *songlist)\n",
    "drop.pack()\n",
    "\n",
    "mybutton = Button(root, text=\"Select this song!\",command=output).pack()\n",
    "\n",
    "root.mainloop()"
   ]
  },
  {
   "cell_type": "code",
   "execution_count": 185,
   "metadata": {},
   "outputs": [
    {
     "data": {
      "text/plain": [
       "<bound method StringVar.get of <tkinter.StringVar object at 0x000001BC49E4E0D0>>"
      ]
     },
     "execution_count": 185,
     "metadata": {},
     "output_type": "execute_result"
    }
   ],
   "source": [
    "selected.get"
   ]
  },
  {
   "cell_type": "markdown",
   "metadata": {},
   "source": [
    "## 2.3 Autocomplete Version"
   ]
  },
  {
   "cell_type": "code",
   "execution_count": 166,
   "metadata": {},
   "outputs": [
    {
     "name": "stdout",
     "output_type": "stream",
     "text": [
      "sand in my boots - morgan wallen\n",
      "\n",
      "You might also like:\n",
      "The Very First Night (Taylor's Version) (From The Vault) - Taylor Swift\n"
     ]
    }
   ],
   "source": [
    "user_input = input(\"Your choice: \")\n",
    "user_input_low = user_input.lower()\n",
    "songlist_low = [x.lower() for x in songlist]\n",
    "#an_iterator = filter(lambda x: x.startswith(user_input_low), songlist_low)\n",
    "an_iterator = filter(lambda x: user_input_low in x, songlist_low)\n",
    "filtered_songs = list(an_iterator)\n",
    "\n",
    "if len(filtered_songs) > 1:\n",
    "    # Deal with more than one song.\n",
    "    print('There are more than one song containing \"{0}\"'.format(user_input))\n",
    "    print('Select the song from choices: ')\n",
    "    for index, name in enumerate(filtered_songs):\n",
    "        print(\"{0}: {1}\".format(index, name))\n",
    "\n",
    "    index = int(input(\"Enter choice number: \"))\n",
    "    # You might want to handle IndexError exception here.\n",
    "    print('\\nSelected song: {0}'.format(filtered_songs[index]))\n",
    "    print('\\nYou might also like:\\n' + df['Title - Artist'].sample(n=1).values[0])\n",
    "\n",
    "elif len(filtered_songs) == 1:\n",
    "    # Only one song found, so print that song.\n",
    "    print(filtered_songs[0])\n",
    "    print('\\nYou might also like:\\n' + df['Title - Artist'].sample(n=1).values[0])\n",
    "else:\n",
    "    print('Unfortunately, the song is not in the hot list!')"
   ]
  },
  {
   "cell_type": "code",
   "execution_count": 156,
   "metadata": {},
   "outputs": [
    {
     "name": "stdout",
     "output_type": "stream",
     "text": [
      "['easy on me - adele']\n"
     ]
    }
   ],
   "source": [
    "user_input = input(\"Your choice: \")\n",
    "user_input_low = user_input.lower()\n",
    "songlist_low = [x.lower() for x in songlist]\n",
    "an_iterator = filter(lambda x: x.startswith(user_input_low), songlist_low)\n",
    "filtered_songs = list(an_iterator)\n",
    "print(filtered_songs)"
   ]
  },
  {
   "cell_type": "code",
   "execution_count": 192,
   "metadata": {},
   "outputs": [
    {
     "ename": "NameError",
     "evalue": "name 'Tkinter' is not defined",
     "output_type": "error",
     "traceback": [
      "\u001b[1;31m---------------------------------------------------------------------------\u001b[0m",
      "\u001b[1;31mNameError\u001b[0m                                 Traceback (most recent call last)",
      "\u001b[1;32m~\\AppData\\Local\\Temp/ipykernel_16988/2709850948.py\u001b[0m in \u001b[0;36m<module>\u001b[1;34m\u001b[0m\n\u001b[0;32m     19\u001b[0m \u001b[0mTkinter_umlauts\u001b[0m\u001b[1;33m=\u001b[0m\u001b[1;33m[\u001b[0m\u001b[1;34m'odiaeresis'\u001b[0m\u001b[1;33m,\u001b[0m \u001b[1;34m'adiaeresis'\u001b[0m\u001b[1;33m,\u001b[0m \u001b[1;34m'udiaeresis'\u001b[0m\u001b[1;33m,\u001b[0m \u001b[1;34m'Odiaeresis'\u001b[0m\u001b[1;33m,\u001b[0m \u001b[1;34m'Adiaeresis'\u001b[0m\u001b[1;33m,\u001b[0m \u001b[1;34m'Udiaeresis'\u001b[0m\u001b[1;33m,\u001b[0m \u001b[1;34m'ssharp'\u001b[0m\u001b[1;33m]\u001b[0m\u001b[1;33m\u001b[0m\u001b[1;33m\u001b[0m\u001b[0m\n\u001b[0;32m     20\u001b[0m \u001b[1;33m\u001b[0m\u001b[0m\n\u001b[1;32m---> 21\u001b[1;33m \u001b[1;32mclass\u001b[0m \u001b[0mAutocompleteEntry\u001b[0m\u001b[1;33m(\u001b[0m\u001b[0mTkinter\u001b[0m\u001b[1;33m.\u001b[0m\u001b[0mEntry\u001b[0m\u001b[1;33m)\u001b[0m\u001b[1;33m:\u001b[0m\u001b[1;33m\u001b[0m\u001b[1;33m\u001b[0m\u001b[0m\n\u001b[0m\u001b[0;32m     22\u001b[0m         \"\"\"\n\u001b[0;32m     23\u001b[0m         \u001b[0mSubclass\u001b[0m \u001b[0mof\u001b[0m \u001b[0mTkinter\u001b[0m\u001b[1;33m.\u001b[0m\u001b[0mEntry\u001b[0m \u001b[0mthat\u001b[0m \u001b[0mfeatures\u001b[0m \u001b[0mautocompletion\u001b[0m\u001b[1;33m.\u001b[0m\u001b[1;33m\u001b[0m\u001b[1;33m\u001b[0m\u001b[0m\n",
      "\u001b[1;31mNameError\u001b[0m: name 'Tkinter' is not defined"
     ]
    }
   ],
   "source": [
    "\"\"\"\n",
    "tkentrycomplete.py\n",
    "\n",
    "A Tkinter widget that features autocompletion.\n",
    "\n",
    "Created by Mitja Martini on 2008-11-29.\n",
    "Updated by Russell Adams, 2011/01/24 to support Python 3 and Combobox.\n",
    "Updated by Dominic Kexel to use Tkinter and ttk instead of tkinter and tkinter.ttk\n",
    "   Licensed same as original (not specified?), or public domain, whichever is less restrictive.\n",
    "\"\"\"\n",
    "import sys\n",
    "import os\n",
    "import Tkinter\n",
    "import ttk\n",
    "\n",
    "__version__ = \"1.1\"\n",
    "\n",
    "# I may have broken the unicode...\n",
    "Tkinter_umlauts=['odiaeresis', 'adiaeresis', 'udiaeresis', 'Odiaeresis', 'Adiaeresis', 'Udiaeresis', 'ssharp']\n",
    "\n",
    "class AutocompleteEntry(Tkinter.Entry):\n",
    "        \"\"\"\n",
    "        Subclass of Tkinter.Entry that features autocompletion.\n",
    "\n",
    "        To enable autocompletion use set_completion_list(list) to define\n",
    "        a list of possible strings to hit.\n",
    "        To cycle through hits use down and up arrow keys.\n",
    "        \"\"\"\n",
    "        def set_completion_list(self, completion_list):\n",
    "                self._completion_list = sorted(completion_list, key=str.lower) # Work with a sorted list\n",
    "                self._hits = []\n",
    "                self._hit_index = 0\n",
    "                self.position = 0\n",
    "                self.bind('<KeyRelease>', self.handle_keyrelease)\n",
    "\n",
    "        def autocomplete(self, delta=0):\n",
    "                \"\"\"autocomplete the Entry, delta may be 0/1/-1 to cycle through possible hits\"\"\"\n",
    "                if delta: # need to delete selection otherwise we would fix the current position\n",
    "                        self.delete(self.position, tkinter.END)\n",
    "                else: # set position to end so selection starts where textentry ended\n",
    "                        self.position = len(self.get())\n",
    "                # collect hits\n",
    "                _hits = []\n",
    "                for element in self._completion_list:\n",
    "                        if element.lower().startswith(self.get().lower()):  # Match case-insensitively\n",
    "                                _hits.append(element)\n",
    "                # if we have a new hit list, keep this in mind\n",
    "                if _hits != self._hits:\n",
    "                        self._hit_index = 0\n",
    "                        self._hits=_hits\n",
    "                # only allow cycling if we are in a known hit list\n",
    "                if _hits == self._hits and self._hits:\n",
    "                        self._hit_index = (self._hit_index + delta) % len(self._hits)\n",
    "                # now finally perform the auto completion\n",
    "                if self._hits:\n",
    "                        self.delete(0,Tkinter.END)\n",
    "                        self.insert(0,self._hits[self._hit_index])\n",
    "                        self.select_range(self.position,Tkinter.END)\n",
    "\n",
    "        def handle_keyrelease(self, event):\n",
    "                \"\"\"event handler for the keyrelease event on this widget\"\"\"\n",
    "                if event.keysym == \"BackSpace\":\n",
    "                        self.delete(self.index(Tkinter.INSERT), Tkinter.END)\n",
    "                        self.position = self.index(Tkinter.END)\n",
    "                if event.keysym == \"Left\":\n",
    "                        if self.position < self.index(Tkinter.END): # delete the selection\n",
    "                                self.delete(self.position, Tkinter.END)\n",
    "                        else:\n",
    "                                self.position = self.position-1 # delete one character\n",
    "                                self.delete(self.position, Tkinter.END)\n",
    "                if event.keysym == \"Right\":\n",
    "                        self.position = self.index(Tkinter.END) # go to end (no selection)\n",
    "                if event.keysym == \"Down\":\n",
    "                        self.autocomplete(1) # cycle to next hit\n",
    "                if event.keysym == \"Up\":\n",
    "                        self.autocomplete(-1) # cycle to previous hit\n",
    "                if len(event.keysym) == 1 or event.keysym in Tkinter_umlauts:\n",
    "                        self.autocomplete()\n",
    "\n",
    "class AutocompleteCombobox(ttk.Combobox):\n",
    "\n",
    "        def set_completion_list(self, completion_list):\n",
    "                \"\"\"Use our completion list as our drop down selection menu, arrows move through menu.\"\"\"\n",
    "                self._completion_list = sorted(completion_list, key=str.lower) # Work with a sorted list\n",
    "                self._hits = []\n",
    "                self._hit_index = 0\n",
    "                self.position = 0\n",
    "                self.bind('<KeyRelease>', self.handle_keyrelease)\n",
    "                self['values'] = self._completion_list  # Setup our popup menu\n",
    "\n",
    "        def autocomplete(self, delta=0):\n",
    "                \"\"\"autocomplete the Combobox, delta may be 0/1/-1 to cycle through possible hits\"\"\"\n",
    "                if delta: # need to delete selection otherwise we would fix the current position\n",
    "                        self.delete(self.position, Tkinter.END)\n",
    "                else: # set position to end so selection starts where textentry ended\n",
    "                        self.position = len(self.get())\n",
    "                # collect hits\n",
    "                _hits = []\n",
    "                for element in self._completion_list:\n",
    "                        if element.lower().startswith(self.get().lower()): # Match case insensitively\n",
    "                                _hits.append(element)\n",
    "                # if we have a new hit list, keep this in mind\n",
    "                if _hits != self._hits:\n",
    "                        self._hit_index = 0\n",
    "                        self._hits=_hits\n",
    "                # only allow cycling if we are in a known hit list\n",
    "                if _hits == self._hits and self._hits:\n",
    "                        self._hit_index = (self._hit_index + delta) % len(self._hits)\n",
    "                # now finally perform the auto completion\n",
    "                if self._hits:\n",
    "                        self.delete(0,Tkinter.END)\n",
    "                        self.insert(0,self._hits[self._hit_index])\n",
    "                        self.select_range(self.position,Tkinter.END)\n",
    "\n",
    "        def handle_keyrelease(self, event):\n",
    "                \"\"\"event handler for the keyrelease event on this widget\"\"\"\n",
    "                if event.keysym == \"BackSpace\":\n",
    "                        self.delete(self.index(Tkinter.INSERT), Tkinter.END)\n",
    "                        self.position = self.index(Tkinter.END)\n",
    "                if event.keysym == \"Left\":\n",
    "                        if self.position < self.index(Tkinter.END): # delete the selection\n",
    "                                self.delete(self.position, Tkinter.END)\n",
    "                        else:\n",
    "                                self.position = self.position-1 # delete one character\n",
    "                                self.delete(self.position, Tkinter.END)\n",
    "                if event.keysym == \"Right\":\n",
    "                        self.position = self.index(Tkinter.END) # go to end (no selection)\n",
    "                if len(event.keysym) == 1:\n",
    "                        self.autocomplete()\n",
    "                # No need for up/down, we'll jump to the popup\n",
    "                # list at the position of the autocompletion\n",
    "\n",
    "def test(test_list):\n",
    "        \"\"\"Run a mini application to test the AutocompleteEntry Widget.\"\"\"\n",
    "        root = Tkinter.Tk(className=' AutocompleteEntry demo')\n",
    "        entry = AutocompleteEntry(root)\n",
    "        entry.set_completion_list(test_list)\n",
    "        entry.pack()\n",
    "        entry.focus_set()\n",
    "        combo = AutocompleteCombobox(root)\n",
    "        combo.set_completion_list(test_list)\n",
    "        combo.pack()\n",
    "        combo.focus_set()\n",
    "        # I used a tiling WM with no controls, added a shortcut to quit\n",
    "        root.bind('<Control-Q>', lambda event=None: root.destroy())\n",
    "        root.bind('<Control-q>', lambda event=None: root.destroy())\n",
    "        root.mainloop()\n",
    "\n",
    "if __name__ == '__main__':\n",
    "        test_list = ('apple', 'banana', 'CranBerry', 'dogwood', 'alpha', 'Acorn', 'Anise' )\n",
    "        test(songlist)"
   ]
  },
  {
   "cell_type": "code",
   "execution_count": 1,
   "metadata": {},
   "outputs": [
    {
     "ename": "NameError",
     "evalue": "name 'top100' is not defined",
     "output_type": "error",
     "traceback": [
      "\u001b[1;31m---------------------------------------------------------------------------\u001b[0m",
      "\u001b[1;31mNameError\u001b[0m                                 Traceback (most recent call last)",
      "\u001b[1;32m~\\AppData\\Local\\Temp/ipykernel_31160/441180913.py\u001b[0m in \u001b[0;36m<module>\u001b[1;34m\u001b[0m\n\u001b[1;32m----> 1\u001b[1;33m \u001b[0mtop100\u001b[0m\u001b[1;33m\u001b[0m\u001b[1;33m\u001b[0m\u001b[0m\n\u001b[0m",
      "\u001b[1;31mNameError\u001b[0m: name 'top100' is not defined"
     ]
    }
   ],
   "source": [
    "top100"
   ]
  },
  {
   "cell_type": "code",
   "execution_count": 2,
   "metadata": {},
   "outputs": [
    {
     "ename": "NameError",
     "evalue": "name 'Top100' is not defined",
     "output_type": "error",
     "traceback": [
      "\u001b[1;31m---------------------------------------------------------------------------\u001b[0m",
      "\u001b[1;31mNameError\u001b[0m                                 Traceback (most recent call last)",
      "\u001b[1;32m~\\AppData\\Local\\Temp/ipykernel_31160/1611504236.py\u001b[0m in \u001b[0;36m<module>\u001b[1;34m\u001b[0m\n\u001b[1;32m----> 1\u001b[1;33m \u001b[0mTop100\u001b[0m\u001b[1;33m\u001b[0m\u001b[1;33m\u001b[0m\u001b[0m\n\u001b[0m",
      "\u001b[1;31mNameError\u001b[0m: name 'Top100' is not defined"
     ]
    }
   ],
   "source": [
    "Top100"
   ]
  },
  {
   "cell_type": "code",
   "execution_count": 8,
   "metadata": {},
   "outputs": [
    {
     "data": {
      "text/plain": [
       "[\"'Til You Can't - Cody Johnson\",\n",
       " \"22 (Taylor's Version) - Taylor Swift\",\n",
       " 'After Last Night - Silk Sonic (Bruno Mars & Anderson .Paak) With Thundercat & Bootsy Collins',\n",
       " 'All I Want For Christmas Is You - Mariah Carey',\n",
       " \"All Too Well (Taylor's Version) - Taylor Swift\",\n",
       " 'Already Dead - Juice WRLD',\n",
       " \"Babe (Taylor's Version) (From The Vault) - Taylor Swift\",\n",
       " 'Bad Habits - Ed Sheeran',\n",
       " 'Bad Man (Smooth Criminal) - Polo G',\n",
       " \"Beggin' - Maneskin\",\n",
       " \"Begin Again (Taylor's Version) - Taylor Swift\",\n",
       " 'Better Days - NEIKED X Mae Muller X Polo G',\n",
       " \"Better Man (Taylor's Version) (From The Vault) - Taylor Swift\",\n",
       " 'Big Energy - Latto',\n",
       " 'Blast Off - Silk Sonic (Bruno Mars & Anderson .Paak)',\n",
       " 'Bubbly - Young Thug With Drake & Travis Scott',\n",
       " 'Buy Dirt - Jordan Davis Featuring Luke Bryan',\n",
       " 'Chasing After You - Ryan Hurd With Maren Morris',\n",
       " 'Chosen - Blxst & Tyga Featuring Ty Dolla $ign',\n",
       " 'Cold As You - Luke Combs',\n",
       " 'Cold Heart (PNAU Remix) - Elton John & Dua Lipa',\n",
       " \"Come Back...Be Here (Taylor's Version) - Taylor Swift\",\n",
       " \"Doin' This - Luke Combs\",\n",
       " 'Easy On Me - Adele',\n",
       " 'Escape Plan - Travis Scott',\n",
       " 'Essence - Wizkid Featuring Justin Bieber & Tems',\n",
       " \"Everything Has Changed (Taylor's Version) - Taylor Swift Featuring Ed Sheeran\",\n",
       " 'Ex For A Reason - Summer Walker & JT',\n",
       " 'Fair Trade - Drake Featuring Travis Scott',\n",
       " 'Family Ties - Baby Keem & Kendrick Lamar',\n",
       " 'Fancy Like - Walker Hayes',\n",
       " 'Fly As Me - Silk Sonic (Bruno Mars & Anderson .Paak)',\n",
       " 'For Tonight - Giveon',\n",
       " \"Forever Winter (Taylor's Version) (From The Vault) - Taylor Swift\",\n",
       " 'Freedom Was A Highway - Jimmie Allen & Brad Paisley',\n",
       " 'Ghost - Justin Bieber',\n",
       " 'Girls Want Girls - Drake Featuring Lil Baby',\n",
       " 'Good 4 U - Olivia Rodrigo',\n",
       " 'Gyalis - Capella Grey',\n",
       " 'Happier Than Ever - Billie Eilish',\n",
       " 'Have Mercy - Chloe',\n",
       " 'Heat Waves - Glass Animals',\n",
       " \"Holy Ground (Taylor's Version) - Taylor Swift\",\n",
       " \"I Almost Do (Taylor's Version) - Taylor Swift\",\n",
       " \"I Bet You Think About Me (Taylor's Version) (From The Vault) - Taylor Swift Featuring Chris Stapleton\",\n",
       " \"I Knew You Were Trouble (Taylor's Version) - Taylor Swift\",\n",
       " \"If I Didn't Love You - Jason Aldean & Carrie Underwood\",\n",
       " 'Industry Baby - Lil Nas X & Jack Harlow',\n",
       " 'Kiss Me More - Doja Cat Featuring SZA',\n",
       " 'Knife Talk - Drake Featuring 21 Savage & Project Pat',\n",
       " 'Knowing You - Kenny Chesney',\n",
       " 'La Fama - Rosalia Featuring The Weeknd',\n",
       " 'Leave The Door Open - Silk Sonic (Bruno Mars & Anderson .Paak)',\n",
       " 'Levitating - Dua Lipa',\n",
       " 'Love Nwantiti (Ah Ah Ah) - CKay',\n",
       " 'Meet Me At Our Spot - THE ANXIETY: WILLOW & Tyler Cole',\n",
       " \"Message In A Bottle (Taylor's Version) (From The Vault) - Taylor Swift\",\n",
       " 'Montero (Call Me By Your Name) - Lil Nas X',\n",
       " 'Moth To A Flame - Swedish House Mafia & The Weeknd',\n",
       " 'My Universe - Coldplay x BTS',\n",
       " 'Need To Know - Doja Cat',\n",
       " 'No Love - Summer Walker & SZA',\n",
       " \"Nothing New (Taylor's Version) (From The Vault) - Taylor Swift Featuring Phoebe Bridgers\",\n",
       " 'One Mississippi - Kane Brown',\n",
       " 'One Right Now - Post Malone & The Weeknd',\n",
       " 'Pepas - Farruko',\n",
       " 'Put On A Smile - Silk Sonic (Bruno Mars & Anderson .Paak)',\n",
       " \"Red (Taylor's Version) - Taylor Swift\",\n",
       " \"Run (Taylor's Version) (From The Vault) - Taylor Swift Featuring Ed Sheeran\",\n",
       " \"Sad Beautiful Tragic (Taylor's Version) - Taylor Swift\",\n",
       " 'Sad Girlz Luv Money - Amaarae & Moliy Featuring Kali Uchis',\n",
       " 'Same Boat - Zac Brown Band',\n",
       " 'Sand In My Boots - Morgan Wallen',\n",
       " 'Save Your Tears - The Weeknd & Ariana Grande',\n",
       " 'Sharing Locations - Meek Mill Featuring Lil Baby & Lil Durk',\n",
       " 'Shivers - Ed Sheeran',\n",
       " 'Skate - Silk Sonic (Bruno Mars & Anderson .Paak)',\n",
       " 'Smokin Out The Window - Silk Sonic (Bruno Mars & Anderson .Paak)',\n",
       " \"Starlight (Taylor's Version) - Taylor Swift\",\n",
       " \"State Of Grace (Taylor's Version) - Taylor Swift\",\n",
       " 'Stay - The Kid LAROI & Justin Bieber',\n",
       " \"Stay Stay Stay (Taylor's Version) - Taylor Swift\",\n",
       " 'Super Gremlin - Kodak Black',\n",
       " 'Take My Breath - The Weeknd',\n",
       " 'Tequila Little Time - Jon Pardi',\n",
       " 'Thats What I Want - Lil Nas X',\n",
       " \"The Last Time (Taylor's Version) - Taylor Swift Featuring Gary Lightbody Of Snow Patrol\",\n",
       " \"The Lucky One (Taylor's Version) - Taylor Swift\",\n",
       " \"The Moment I Knew (Taylor's Version) - Taylor Swift\",\n",
       " \"The Very First Night (Taylor's Version) (From The Vault) - Taylor Swift\",\n",
       " \"Thinking 'Bout You - Dustin Lynch Featuring Lauren Alaina Or MacKenzie Porter\",\n",
       " \"Treacherous (Taylor's Version) - Taylor Swift\",\n",
       " 'Way 2 Sexy - Drake Featuring Future & Young Thug',\n",
       " \"We Are Never Ever Getting Back Together (Taylor's Version) - Taylor Swift\",\n",
       " 'Whiskey And Rain - Michael Ray',\n",
       " 'Who Want Smoke?? - Nardo Wick Featuring G Herbo, Lil Durk & 21 Savage',\n",
       " 'Wild Side - Normani Featuring Cardi B',\n",
       " 'Woman - Doja Cat',\n",
       " 'You Right - Doja Cat & The Weeknd',\n",
       " 'You Should Probably Leave - Chris Stapleton']"
      ]
     },
     "execution_count": 8,
     "metadata": {},
     "output_type": "execute_result"
    }
   ],
   "source": [
    "songlist"
   ]
  },
  {
   "cell_type": "code",
   "execution_count": null,
   "metadata": {},
   "outputs": [],
   "source": []
  }
 ],
 "metadata": {
  "interpreter": {
   "hash": "9c829346dbfeebf68e991a09823a010cd364a5faadbed445a3ecf1e247d421bf"
  },
  "kernelspec": {
   "display_name": "Python 3 (ipykernel)",
   "language": "python",
   "name": "python3"
  },
  "language_info": {
   "codemirror_mode": {
    "name": "ipython",
    "version": 3
   },
   "file_extension": ".py",
   "mimetype": "text/x-python",
   "name": "python",
   "nbconvert_exporter": "python",
   "pygments_lexer": "ipython3",
   "version": "3.9.6"
  }
 },
 "nbformat": 4,
 "nbformat_minor": 2
}
