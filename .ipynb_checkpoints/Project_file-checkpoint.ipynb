{
 "cells": [
  {
   "cell_type": "markdown",
   "metadata": {},
   "source": [
    "## 1.0 Libraries"
   ]
  },
  {
   "cell_type": "code",
   "execution_count": 186,
   "metadata": {},
   "outputs": [],
   "source": [
    "from IPython.display import display # get ipython for nicer output\n",
    "import pandas as pd # to build dataframe\n",
    "from tkinter import * # to have drop.down menues\n",
    "import numpy as np\n",
    "from tkinter import ttk"
   ]
  },
  {
   "cell_type": "markdown",
   "metadata": {},
   "source": [
    "## 1.1 Load Data"
   ]
  },
  {
   "cell_type": "code",
   "execution_count": 187,
   "metadata": {},
   "outputs": [],
   "source": [
    "df=pd.read_csv('data/Top100.csv')"
   ]
  },
  {
   "cell_type": "code",
   "execution_count": 188,
   "metadata": {},
   "outputs": [],
   "source": [
    "# merge song title and artist together and write to a list\n",
    "df['Title - Artist'] = df['Title'].str.cat(others=df['Artist'],sep=' - ')"
   ]
  },
  {
   "cell_type": "code",
   "execution_count": 189,
   "metadata": {},
   "outputs": [],
   "source": [
    "# Create an alphabetical list of all the available songs\n",
    "songlist = []\n",
    "for i in range(len(df['Title - Artist'])):\n",
    "    songlist.append(df['Title - Artist'][i])\n",
    "songlist = sorted(songlist)"
   ]
  },
  {
   "cell_type": "markdown",
   "metadata": {},
   "source": [
    "## 2.1 Regular version"
   ]
  },
  {
   "cell_type": "code",
   "execution_count": 168,
   "metadata": {},
   "outputs": [
    {
     "name": "stdout",
     "output_type": "stream",
     "text": [
      "You might also like:\n",
      "Message In A Bottle (Taylor's Version) (From The Vault) - Taylor Swift\n"
     ]
    }
   ],
   "source": [
    "user_input = input(\"What's you favorite Song:\") # user input\n",
    "user_input = user_input.lower()\n",
    "if (df['Title'].str.lower() == user_input).any():\n",
    "    #df_exclude = df.drop(user_input.title(),axis=0)\n",
    "    print('You might also like:')\n",
    "    print(df['Title - Artist'].sample(n=1).values[0])\n",
    "else:\n",
    "    print('Unfortunately, the song is not in the hot list!')"
   ]
  },
  {
   "cell_type": "markdown",
   "metadata": {},
   "source": [
    "## 2.2 Tkinter OptionsMenu"
   ]
  },
  {
   "cell_type": "code",
   "execution_count": 190,
   "metadata": {},
   "outputs": [],
   "source": [
    "root = Tk()\n",
    "root.title('Song Recommender by Tobias')\n",
    "root.geometry('400x400')\n",
    "\n",
    "def output():\n",
    "    if (df['Title - Artist'] == selected.get()).any():\n",
    "        out = 'You might also like:\\n' + df['Title - Artist'].sample(n=1).values[0]\n",
    "    else:\n",
    "        out = 'Unfortunately, the song is not in the hot list!'\n",
    "    myLabel = Label(root,text=out).pack()\n",
    "\n",
    "selected = StringVar()\n",
    "\n",
    "#drop = ttk.Combobox(root, textvariable=selected, values=songlist)\n",
    "drop = OptionMenu(root, selected, *songlist)\n",
    "drop.pack()\n",
    "\n",
    "mybutton = Button(root, text=\"Select this song!\",command=output).pack()\n",
    "\n",
    "root.mainloop()"
   ]
  },
  {
   "cell_type": "code",
   "execution_count": 185,
   "metadata": {},
   "outputs": [
    {
     "data": {
      "text/plain": [
       "<bound method StringVar.get of <tkinter.StringVar object at 0x000001BC49E4E0D0>>"
      ]
     },
     "execution_count": 185,
     "metadata": {},
     "output_type": "execute_result"
    }
   ],
   "source": [
    "selected.get"
   ]
  },
  {
   "cell_type": "markdown",
   "metadata": {},
   "source": [
    "## 2.3 Autocomplete Version"
   ]
  },
  {
   "cell_type": "code",
   "execution_count": 166,
   "metadata": {},
   "outputs": [
    {
     "name": "stdout",
     "output_type": "stream",
     "text": [
      "sand in my boots - morgan wallen\n",
      "\n",
      "You might also like:\n",
      "The Very First Night (Taylor's Version) (From The Vault) - Taylor Swift\n"
     ]
    }
   ],
   "source": [
    "user_input = input(\"Your choice: \")\n",
    "user_input_low = user_input.lower()\n",
    "songlist_low = [x.lower() for x in songlist]\n",
    "#an_iterator = filter(lambda x: x.startswith(user_input_low), songlist_low)\n",
    "an_iterator = filter(lambda x: user_input_low in x, songlist_low)\n",
    "filtered_songs = list(an_iterator)\n",
    "\n",
    "if len(filtered_songs) > 1:\n",
    "    # Deal with more than one song.\n",
    "    print('There are more than one song containing \"{0}\"'.format(user_input))\n",
    "    print('Select the song from choices: ')\n",
    "    for index, name in enumerate(filtered_songs):\n",
    "        print(\"{0}: {1}\".format(index, name))\n",
    "\n",
    "    index = int(input(\"Enter choice number: \"))\n",
    "    # You might want to handle IndexError exception here.\n",
    "    print('\\nSelected song: {0}'.format(filtered_songs[index]))\n",
    "    print('\\nYou might also like:\\n' + df['Title - Artist'].sample(n=1).values[0])\n",
    "\n",
    "elif len(filtered_songs) == 1:\n",
    "    # Only one song found, so print that song.\n",
    "    print(filtered_songs[0])\n",
    "    print('\\nYou might also like:\\n' + df['Title - Artist'].sample(n=1).values[0])\n",
    "else:\n",
    "    print('Unfortunately, the song is not in the hot list!')"
   ]
  },
  {
   "cell_type": "code",
   "execution_count": 156,
   "metadata": {},
   "outputs": [
    {
     "name": "stdout",
     "output_type": "stream",
     "text": [
      "['easy on me - adele']\n"
     ]
    }
   ],
   "source": [
    "user_input = input(\"Your choice: \")\n",
    "user_input_low = user_input.lower()\n",
    "songlist_low = [x.lower() for x in songlist]\n",
    "an_iterator = filter(lambda x: x.startswith(user_input_low), songlist_low)\n",
    "filtered_songs = list(an_iterator)\n",
    "print(filtered_songs)"
   ]
  },
  {
   "cell_type": "code",
   "execution_count": 192,
   "metadata": {},
   "outputs": [
    {
     "ename": "NameError",
     "evalue": "name 'Tkinter' is not defined",
     "output_type": "error",
     "traceback": [
      "\u001b[1;31m---------------------------------------------------------------------------\u001b[0m",
      "\u001b[1;31mNameError\u001b[0m                                 Traceback (most recent call last)",
      "\u001b[1;32m~\\AppData\\Local\\Temp/ipykernel_16988/2709850948.py\u001b[0m in \u001b[0;36m<module>\u001b[1;34m\u001b[0m\n\u001b[0;32m     19\u001b[0m \u001b[0mTkinter_umlauts\u001b[0m\u001b[1;33m=\u001b[0m\u001b[1;33m[\u001b[0m\u001b[1;34m'odiaeresis'\u001b[0m\u001b[1;33m,\u001b[0m \u001b[1;34m'adiaeresis'\u001b[0m\u001b[1;33m,\u001b[0m \u001b[1;34m'udiaeresis'\u001b[0m\u001b[1;33m,\u001b[0m \u001b[1;34m'Odiaeresis'\u001b[0m\u001b[1;33m,\u001b[0m \u001b[1;34m'Adiaeresis'\u001b[0m\u001b[1;33m,\u001b[0m \u001b[1;34m'Udiaeresis'\u001b[0m\u001b[1;33m,\u001b[0m \u001b[1;34m'ssharp'\u001b[0m\u001b[1;33m]\u001b[0m\u001b[1;33m\u001b[0m\u001b[1;33m\u001b[0m\u001b[0m\n\u001b[0;32m     20\u001b[0m \u001b[1;33m\u001b[0m\u001b[0m\n\u001b[1;32m---> 21\u001b[1;33m \u001b[1;32mclass\u001b[0m \u001b[0mAutocompleteEntry\u001b[0m\u001b[1;33m(\u001b[0m\u001b[0mTkinter\u001b[0m\u001b[1;33m.\u001b[0m\u001b[0mEntry\u001b[0m\u001b[1;33m)\u001b[0m\u001b[1;33m:\u001b[0m\u001b[1;33m\u001b[0m\u001b[1;33m\u001b[0m\u001b[0m\n\u001b[0m\u001b[0;32m     22\u001b[0m         \"\"\"\n\u001b[0;32m     23\u001b[0m         \u001b[0mSubclass\u001b[0m \u001b[0mof\u001b[0m \u001b[0mTkinter\u001b[0m\u001b[1;33m.\u001b[0m\u001b[0mEntry\u001b[0m \u001b[0mthat\u001b[0m \u001b[0mfeatures\u001b[0m \u001b[0mautocompletion\u001b[0m\u001b[1;33m.\u001b[0m\u001b[1;33m\u001b[0m\u001b[1;33m\u001b[0m\u001b[0m\n",
      "\u001b[1;31mNameError\u001b[0m: name 'Tkinter' is not defined"
     ]
    }
   ],
   "source": [
    "\"\"\"\n",
    "tkentrycomplete.py\n",
    "\n",
    "A Tkinter widget that features autocompletion.\n",
    "\n",
    "Created by Mitja Martini on 2008-11-29.\n",
    "Updated by Russell Adams, 2011/01/24 to support Python 3 and Combobox.\n",
    "Updated by Dominic Kexel to use Tkinter and ttk instead of tkinter and tkinter.ttk\n",
    "   Licensed same as original (not specified?), or public domain, whichever is less restrictive.\n",
    "\"\"\"\n",
    "import sys\n",
    "import os\n",
    "import Tkinter\n",
    "import ttk\n",
    "\n",
    "__version__ = \"1.1\"\n",
    "\n",
    "# I may have broken the unicode...\n",
    "Tkinter_umlauts=['odiaeresis', 'adiaeresis', 'udiaeresis', 'Odiaeresis', 'Adiaeresis', 'Udiaeresis', 'ssharp']\n",
    "\n",
    "class AutocompleteEntry(Tkinter.Entry):\n",
    "        \"\"\"\n",
    "        Subclass of Tkinter.Entry that features autocompletion.\n",
    "\n",
    "        To enable autocompletion use set_completion_list(list) to define\n",
    "        a list of possible strings to hit.\n",
    "        To cycle through hits use down and up arrow keys.\n",
    "        \"\"\"\n",
    "        def set_completion_list(self, completion_list):\n",
    "                self._completion_list = sorted(completion_list, key=str.lower) # Work with a sorted list\n",
    "                self._hits = []\n",
    "                self._hit_index = 0\n",
    "                self.position = 0\n",
    "                self.bind('<KeyRelease>', self.handle_keyrelease)\n",
    "\n",
    "        def autocomplete(self, delta=0):\n",
    "                \"\"\"autocomplete the Entry, delta may be 0/1/-1 to cycle through possible hits\"\"\"\n",
    "                if delta: # need to delete selection otherwise we would fix the current position\n",
    "                        self.delete(self.position, tkinter.END)\n",
    "                else: # set position to end so selection starts where textentry ended\n",
    "                        self.position = len(self.get())\n",
    "                # collect hits\n",
    "                _hits = []\n",
    "                for element in self._completion_list:\n",
    "                        if element.lower().startswith(self.get().lower()):  # Match case-insensitively\n",
    "                                _hits.append(element)\n",
    "                # if we have a new hit list, keep this in mind\n",
    "                if _hits != self._hits:\n",
    "                        self._hit_index = 0\n",
    "                        self._hits=_hits\n",
    "                # only allow cycling if we are in a known hit list\n",
    "                if _hits == self._hits and self._hits:\n",
    "                        self._hit_index = (self._hit_index + delta) % len(self._hits)\n",
    "                # now finally perform the auto completion\n",
    "                if self._hits:\n",
    "                        self.delete(0,Tkinter.END)\n",
    "                        self.insert(0,self._hits[self._hit_index])\n",
    "                        self.select_range(self.position,Tkinter.END)\n",
    "\n",
    "        def handle_keyrelease(self, event):\n",
    "                \"\"\"event handler for the keyrelease event on this widget\"\"\"\n",
    "                if event.keysym == \"BackSpace\":\n",
    "                        self.delete(self.index(Tkinter.INSERT), Tkinter.END)\n",
    "                        self.position = self.index(Tkinter.END)\n",
    "                if event.keysym == \"Left\":\n",
    "                        if self.position < self.index(Tkinter.END): # delete the selection\n",
    "                                self.delete(self.position, Tkinter.END)\n",
    "                        else:\n",
    "                                self.position = self.position-1 # delete one character\n",
    "                                self.delete(self.position, Tkinter.END)\n",
    "                if event.keysym == \"Right\":\n",
    "                        self.position = self.index(Tkinter.END) # go to end (no selection)\n",
    "                if event.keysym == \"Down\":\n",
    "                        self.autocomplete(1) # cycle to next hit\n",
    "                if event.keysym == \"Up\":\n",
    "                        self.autocomplete(-1) # cycle to previous hit\n",
    "                if len(event.keysym) == 1 or event.keysym in Tkinter_umlauts:\n",
    "                        self.autocomplete()\n",
    "\n",
    "class AutocompleteCombobox(ttk.Combobox):\n",
    "\n",
    "        def set_completion_list(self, completion_list):\n",
    "                \"\"\"Use our completion list as our drop down selection menu, arrows move through menu.\"\"\"\n",
    "                self._completion_list = sorted(completion_list, key=str.lower) # Work with a sorted list\n",
    "                self._hits = []\n",
    "                self._hit_index = 0\n",
    "                self.position = 0\n",
    "                self.bind('<KeyRelease>', self.handle_keyrelease)\n",
    "                self['values'] = self._completion_list  # Setup our popup menu\n",
    "\n",
    "        def autocomplete(self, delta=0):\n",
    "                \"\"\"autocomplete the Combobox, delta may be 0/1/-1 to cycle through possible hits\"\"\"\n",
    "                if delta: # need to delete selection otherwise we would fix the current position\n",
    "                        self.delete(self.position, Tkinter.END)\n",
    "                else: # set position to end so selection starts where textentry ended\n",
    "                        self.position = len(self.get())\n",
    "                # collect hits\n",
    "                _hits = []\n",
    "                for element in self._completion_list:\n",
    "                        if element.lower().startswith(self.get().lower()): # Match case insensitively\n",
    "                                _hits.append(element)\n",
    "                # if we have a new hit list, keep this in mind\n",
    "                if _hits != self._hits:\n",
    "                        self._hit_index = 0\n",
    "                        self._hits=_hits\n",
    "                # only allow cycling if we are in a known hit list\n",
    "                if _hits == self._hits and self._hits:\n",
    "                        self._hit_index = (self._hit_index + delta) % len(self._hits)\n",
    "                # now finally perform the auto completion\n",
    "                if self._hits:\n",
    "                        self.delete(0,Tkinter.END)\n",
    "                        self.insert(0,self._hits[self._hit_index])\n",
    "                        self.select_range(self.position,Tkinter.END)\n",
    "\n",
    "        def handle_keyrelease(self, event):\n",
    "                \"\"\"event handler for the keyrelease event on this widget\"\"\"\n",
    "                if event.keysym == \"BackSpace\":\n",
    "                        self.delete(self.index(Tkinter.INSERT), Tkinter.END)\n",
    "                        self.position = self.index(Tkinter.END)\n",
    "                if event.keysym == \"Left\":\n",
    "                        if self.position < self.index(Tkinter.END): # delete the selection\n",
    "                                self.delete(self.position, Tkinter.END)\n",
    "                        else:\n",
    "                                self.position = self.position-1 # delete one character\n",
    "                                self.delete(self.position, Tkinter.END)\n",
    "                if event.keysym == \"Right\":\n",
    "                        self.position = self.index(Tkinter.END) # go to end (no selection)\n",
    "                if len(event.keysym) == 1:\n",
    "                        self.autocomplete()\n",
    "                # No need for up/down, we'll jump to the popup\n",
    "                # list at the position of the autocompletion\n",
    "\n",
    "def test(test_list):\n",
    "        \"\"\"Run a mini application to test the AutocompleteEntry Widget.\"\"\"\n",
    "        root = Tkinter.Tk(className=' AutocompleteEntry demo')\n",
    "        entry = AutocompleteEntry(root)\n",
    "        entry.set_completion_list(test_list)\n",
    "        entry.pack()\n",
    "        entry.focus_set()\n",
    "        combo = AutocompleteCombobox(root)\n",
    "        combo.set_completion_list(test_list)\n",
    "        combo.pack()\n",
    "        combo.focus_set()\n",
    "        # I used a tiling WM with no controls, added a shortcut to quit\n",
    "        root.bind('<Control-Q>', lambda event=None: root.destroy())\n",
    "        root.bind('<Control-q>', lambda event=None: root.destroy())\n",
    "        root.mainloop()\n",
    "\n",
    "if __name__ == '__main__':\n",
    "        test_list = ('apple', 'banana', 'CranBerry', 'dogwood', 'alpha', 'Acorn', 'Anise' )\n",
    "        test(songlist)"
   ]
  },
  {
   "cell_type": "code",
   "execution_count": null,
   "metadata": {},
   "outputs": [],
   "source": []
  }
 ],
 "metadata": {
  "interpreter": {
   "hash": "9c829346dbfeebf68e991a09823a010cd364a5faadbed445a3ecf1e247d421bf"
  },
  "kernelspec": {
   "display_name": "Python 3 (ipykernel)",
   "language": "python",
   "name": "python3"
  },
  "language_info": {
   "codemirror_mode": {
    "name": "ipython",
    "version": 3
   },
   "file_extension": ".py",
   "mimetype": "text/x-python",
   "name": "python",
   "nbconvert_exporter": "python",
   "pygments_lexer": "ipython3",
   "version": "3.9.6"
  }
 },
 "nbformat": 4,
 "nbformat_minor": 2
}
