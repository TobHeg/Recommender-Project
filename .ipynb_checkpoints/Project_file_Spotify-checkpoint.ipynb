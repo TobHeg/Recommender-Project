{
 "cells": [
  {
   "cell_type": "markdown",
   "metadata": {
    "slideshow": {
     "slide_type": "slide"
    }
   },
   "source": [
    "# Recommender App\n",
    "## By Tobias"
   ]
  },
  {
   "cell_type": "markdown",
   "metadata": {
    "slideshow": {
     "slide_type": "subslide"
    }
   },
   "source": [
    "### Overview\n",
    "In this Notebook I'd like to present my approach on a music recommendation engine, based on 183.000 songs in the library and weekly updated Billboards Top100."
   ]
  },
  {
   "cell_type": "markdown",
   "metadata": {
    "slideshow": {
     "slide_type": "slide"
    }
   },
   "source": [
    "## 1.0 Libraries"
   ]
  },
  {
   "cell_type": "code",
   "execution_count": 45,
   "metadata": {
    "slideshow": {
     "slide_type": "subslide"
    }
   },
   "outputs": [],
   "source": [
    "from IPython.display import display # get ipython for nicer output\n",
    "import pandas as pd # to build dataframe\n",
    "from tkinter import * # to have drop.down menues\n",
    "import numpy as np\n",
    "from tkinter import ttk\n",
    "from sklearn.preprocessing import StandardScaler\n",
    "from sklearn.cluster import KMeans\n",
    "from matplotlib import pyplot\n",
    "from sklearn.metrics import silhouette_score\n",
    "from IPython.display import IFrame\n"
   ]
  },
  {
   "cell_type": "markdown",
   "metadata": {
    "slideshow": {
     "slide_type": "slide"
    }
   },
   "source": [
    "## 1.1 Load Data"
   ]
  },
  {
   "cell_type": "code",
   "execution_count": 46,
   "metadata": {
    "slideshow": {
     "slide_type": "fragment"
    }
   },
   "outputs": [],
   "source": [
    "# Load current hot list\n",
    "Top100=pd.read_csv('data/Top100.csv')"
   ]
  },
  {
   "cell_type": "code",
   "execution_count": 47,
   "metadata": {
    "slideshow": {
     "slide_type": "fragment"
    }
   },
   "outputs": [],
   "source": [
    "# load song data\n",
    "df=pd.read_csv('data/song_data.csv')"
   ]
  },
  {
   "cell_type": "code",
   "execution_count": 48,
   "metadata": {
    "slideshow": {
     "slide_type": "fragment"
    }
   },
   "outputs": [],
   "source": [
    "# drop old index column\n",
    "df = df.drop(['Unnamed: 0'], axis=1)"
   ]
  },
  {
   "cell_type": "code",
   "execution_count": 49,
   "metadata": {
    "slideshow": {
     "slide_type": "skip"
    }
   },
   "outputs": [
    {
     "data": {
      "text/plain": [
       "0    audio_features\n",
       "1    audio_features\n",
       "2    audio_features\n",
       "3    audio_features\n",
       "4    audio_features\n",
       "Name: type, dtype: object"
      ]
     },
     "execution_count": 49,
     "metadata": {},
     "output_type": "execute_result"
    }
   ],
   "source": [
    "df['type'].head()"
   ]
  },
  {
   "cell_type": "code",
   "execution_count": 50,
   "metadata": {
    "slideshow": {
     "slide_type": "skip"
    }
   },
   "outputs": [
    {
     "name": "stdout",
     "output_type": "stream",
     "text": [
      "<class 'pandas.core.frame.DataFrame'>\n",
      "RangeIndex: 222313 entries, 0 to 222312\n",
      "Data columns (total 21 columns):\n",
      " #   Column            Non-Null Count   Dtype  \n",
      "---  ------            --------------   -----  \n",
      " 0   danceability      222313 non-null  float64\n",
      " 1   energy            222313 non-null  float64\n",
      " 2   key               222313 non-null  int64  \n",
      " 3   loudness          222313 non-null  float64\n",
      " 4   mode              222313 non-null  int64  \n",
      " 5   speechiness       222313 non-null  float64\n",
      " 6   acousticness      222313 non-null  float64\n",
      " 7   instrumentalness  222313 non-null  float64\n",
      " 8   liveness          222313 non-null  float64\n",
      " 9   valence           222313 non-null  float64\n",
      " 10  tempo             222313 non-null  float64\n",
      " 11  type              222313 non-null  object \n",
      " 12  id                222313 non-null  object \n",
      " 13  uri               222313 non-null  object \n",
      " 14  track_href        222313 non-null  object \n",
      " 15  analysis_url      222313 non-null  object \n",
      " 16  duration_ms       222313 non-null  int64  \n",
      " 17  time_signature    222313 non-null  int64  \n",
      " 18  track_name        222313 non-null  object \n",
      " 19  artist_name       222313 non-null  object \n",
      " 20  artist_id         222313 non-null  object \n",
      "dtypes: float64(9), int64(4), object(8)\n",
      "memory usage: 35.6+ MB\n"
     ]
    }
   ],
   "source": [
    "df.info()"
   ]
  },
  {
   "cell_type": "markdown",
   "metadata": {
    "slideshow": {
     "slide_type": "slide"
    }
   },
   "source": [
    "### Create new field my lookup is based on"
   ]
  },
  {
   "cell_type": "code",
   "execution_count": 51,
   "metadata": {
    "slideshow": {
     "slide_type": "subslide"
    }
   },
   "outputs": [
    {
     "name": "stdout",
     "output_type": "stream",
     "text": [
      "222313\n",
      "182846\n"
     ]
    }
   ],
   "source": [
    "# merge song title and artist together and write to a list\n",
    "df['title_artist'] = df['track_name'].str.cat(others=df['artist_name'],sep='  BY  ')\n",
    "# make lower case\n",
    "df['title_artist'] = df['title_artist'].str.lower()\n",
    "# drop duplicates\n",
    "print(df['title_artist'].count())\n",
    "df.drop_duplicates(subset=['title_artist'], keep='first', inplace=True, ignore_index=True)\n",
    "print(df['title_artist'].count())"
   ]
  },
  {
   "cell_type": "code",
   "execution_count": 52,
   "metadata": {
    "slideshow": {
     "slide_type": "skip"
    }
   },
   "outputs": [
    {
     "data": {
      "text/plain": [
       "0               aaj ka ye din  by  kalyanji-anandji\n",
       "1        main hoon tere samne  by  kalyanji-anandji\n",
       "2        dulha dulhan ki jodi  by  kalyanji-anandji\n",
       "3    ankh zhapak te khel gaye  by  kalyanji-anandji\n",
       "4        pyare tere pyar mein  by  kalyanji-anandji\n",
       "Name: title_artist, dtype: object"
      ]
     },
     "execution_count": 52,
     "metadata": {},
     "output_type": "execute_result"
    }
   ],
   "source": [
    "df['title_artist'].head()"
   ]
  },
  {
   "cell_type": "code",
   "execution_count": 53,
   "metadata": {
    "slideshow": {
     "slide_type": "skip"
    }
   },
   "outputs": [],
   "source": [
    "# Create an alphabetical list of all the available songs\n",
    "#songlist = []\n",
    "#for i in range(len(df['title_artist'])):\n",
    "#    songlist.append(df['title_artist'][i])\n",
    "#songlist = sorted(songlist)"
   ]
  },
  {
   "cell_type": "markdown",
   "metadata": {
    "slideshow": {
     "slide_type": "slide"
    }
   },
   "source": [
    "## 2. Building the KMeans Model"
   ]
  },
  {
   "cell_type": "markdown",
   "metadata": {
    "slideshow": {
     "slide_type": "subslide"
    }
   },
   "source": [
    "## 2.1. Preparing the data"
   ]
  },
  {
   "cell_type": "code",
   "execution_count": 54,
   "metadata": {
    "slideshow": {
     "slide_type": "fragment"
    }
   },
   "outputs": [
    {
     "data": {
      "text/html": [
       "<div>\n",
       "<style scoped>\n",
       "    .dataframe tbody tr th:only-of-type {\n",
       "        vertical-align: middle;\n",
       "    }\n",
       "\n",
       "    .dataframe tbody tr th {\n",
       "        vertical-align: top;\n",
       "    }\n",
       "\n",
       "    .dataframe thead th {\n",
       "        text-align: right;\n",
       "    }\n",
       "</style>\n",
       "<table border=\"1\" class=\"dataframe\">\n",
       "  <thead>\n",
       "    <tr style=\"text-align: right;\">\n",
       "      <th></th>\n",
       "      <th>danceability</th>\n",
       "      <th>energy</th>\n",
       "      <th>key</th>\n",
       "      <th>loudness</th>\n",
       "      <th>mode</th>\n",
       "      <th>speechiness</th>\n",
       "      <th>acousticness</th>\n",
       "      <th>instrumentalness</th>\n",
       "      <th>liveness</th>\n",
       "      <th>valence</th>\n",
       "      <th>tempo</th>\n",
       "    </tr>\n",
       "  </thead>\n",
       "  <tbody>\n",
       "    <tr>\n",
       "      <th>0</th>\n",
       "      <td>0.491</td>\n",
       "      <td>0.698</td>\n",
       "      <td>1</td>\n",
       "      <td>-8.913</td>\n",
       "      <td>1</td>\n",
       "      <td>0.0503</td>\n",
       "      <td>0.669</td>\n",
       "      <td>0.000012</td>\n",
       "      <td>0.4520</td>\n",
       "      <td>0.827</td>\n",
       "      <td>106.624</td>\n",
       "    </tr>\n",
       "    <tr>\n",
       "      <th>1</th>\n",
       "      <td>0.500</td>\n",
       "      <td>0.472</td>\n",
       "      <td>9</td>\n",
       "      <td>-9.487</td>\n",
       "      <td>0</td>\n",
       "      <td>0.0309</td>\n",
       "      <td>0.712</td>\n",
       "      <td>0.000569</td>\n",
       "      <td>0.2630</td>\n",
       "      <td>0.693</td>\n",
       "      <td>109.250</td>\n",
       "    </tr>\n",
       "    <tr>\n",
       "      <th>2</th>\n",
       "      <td>0.517</td>\n",
       "      <td>0.621</td>\n",
       "      <td>5</td>\n",
       "      <td>-8.660</td>\n",
       "      <td>1</td>\n",
       "      <td>0.2230</td>\n",
       "      <td>0.773</td>\n",
       "      <td>0.000000</td>\n",
       "      <td>0.1460</td>\n",
       "      <td>0.782</td>\n",
       "      <td>111.710</td>\n",
       "    </tr>\n",
       "    <tr>\n",
       "      <th>3</th>\n",
       "      <td>0.409</td>\n",
       "      <td>0.352</td>\n",
       "      <td>3</td>\n",
       "      <td>-11.444</td>\n",
       "      <td>1</td>\n",
       "      <td>0.0310</td>\n",
       "      <td>0.709</td>\n",
       "      <td>0.000000</td>\n",
       "      <td>0.2650</td>\n",
       "      <td>0.516</td>\n",
       "      <td>138.004</td>\n",
       "    </tr>\n",
       "    <tr>\n",
       "      <th>4</th>\n",
       "      <td>0.641</td>\n",
       "      <td>0.654</td>\n",
       "      <td>10</td>\n",
       "      <td>-10.219</td>\n",
       "      <td>1</td>\n",
       "      <td>0.1220</td>\n",
       "      <td>0.653</td>\n",
       "      <td>0.000000</td>\n",
       "      <td>0.0733</td>\n",
       "      <td>0.736</td>\n",
       "      <td>100.351</td>\n",
       "    </tr>\n",
       "  </tbody>\n",
       "</table>\n",
       "</div>"
      ],
      "text/plain": [
       "   danceability  energy  key  loudness  mode  speechiness  acousticness  \\\n",
       "0         0.491   0.698    1    -8.913     1       0.0503         0.669   \n",
       "1         0.500   0.472    9    -9.487     0       0.0309         0.712   \n",
       "2         0.517   0.621    5    -8.660     1       0.2230         0.773   \n",
       "3         0.409   0.352    3   -11.444     1       0.0310         0.709   \n",
       "4         0.641   0.654   10   -10.219     1       0.1220         0.653   \n",
       "\n",
       "   instrumentalness  liveness  valence    tempo  \n",
       "0          0.000012    0.4520    0.827  106.624  \n",
       "1          0.000569    0.2630    0.693  109.250  \n",
       "2          0.000000    0.1460    0.782  111.710  \n",
       "3          0.000000    0.2650    0.516  138.004  \n",
       "4          0.000000    0.0733    0.736  100.351  "
      ]
     },
     "execution_count": 54,
     "metadata": {},
     "output_type": "execute_result"
    }
   ],
   "source": [
    "# compiling the features into a designated dataframe\n",
    "df_features = df.drop(['type','id','uri','track_href','analysis_url','duration_ms','time_signature','track_name','artist_name','artist_id','title_artist'],axis=1)\n",
    "df_features.head()                       "
   ]
  },
  {
   "cell_type": "markdown",
   "metadata": {
    "slideshow": {
     "slide_type": "slide"
    }
   },
   "source": [
    "## 2.2 Scaling the features"
   ]
  },
  {
   "cell_type": "code",
   "execution_count": 55,
   "metadata": {
    "slideshow": {
     "slide_type": "subslide"
    }
   },
   "outputs": [
    {
     "data": {
      "text/html": [
       "<div>\n",
       "<style scoped>\n",
       "    .dataframe tbody tr th:only-of-type {\n",
       "        vertical-align: middle;\n",
       "    }\n",
       "\n",
       "    .dataframe tbody tr th {\n",
       "        vertical-align: top;\n",
       "    }\n",
       "\n",
       "    .dataframe thead th {\n",
       "        text-align: right;\n",
       "    }\n",
       "</style>\n",
       "<table border=\"1\" class=\"dataframe\">\n",
       "  <thead>\n",
       "    <tr style=\"text-align: right;\">\n",
       "      <th></th>\n",
       "      <th>danceability</th>\n",
       "      <th>energy</th>\n",
       "      <th>key</th>\n",
       "      <th>loudness</th>\n",
       "      <th>mode</th>\n",
       "      <th>speechiness</th>\n",
       "      <th>acousticness</th>\n",
       "      <th>instrumentalness</th>\n",
       "      <th>liveness</th>\n",
       "      <th>valence</th>\n",
       "      <th>tempo</th>\n",
       "    </tr>\n",
       "  </thead>\n",
       "  <tbody>\n",
       "    <tr>\n",
       "      <th>0</th>\n",
       "      <td>-0.457822</td>\n",
       "      <td>0.308414</td>\n",
       "      <td>-1.187239</td>\n",
       "      <td>0.009805</td>\n",
       "      <td>0.787163</td>\n",
       "      <td>-0.391332</td>\n",
       "      <td>1.191884</td>\n",
       "      <td>-0.627617</td>\n",
       "      <td>1.092214</td>\n",
       "      <td>1.515025</td>\n",
       "      <td>-0.503410</td>\n",
       "    </tr>\n",
       "    <tr>\n",
       "      <th>1</th>\n",
       "      <td>-0.408076</td>\n",
       "      <td>-0.609575</td>\n",
       "      <td>1.029808</td>\n",
       "      <td>-0.103078</td>\n",
       "      <td>-1.270385</td>\n",
       "      <td>-0.540643</td>\n",
       "      <td>1.324135</td>\n",
       "      <td>-0.625991</td>\n",
       "      <td>0.192504</td>\n",
       "      <td>0.984287</td>\n",
       "      <td>-0.414648</td>\n",
       "    </tr>\n",
       "    <tr>\n",
       "      <th>2</th>\n",
       "      <td>-0.314110</td>\n",
       "      <td>-0.004353</td>\n",
       "      <td>-0.078715</td>\n",
       "      <td>0.059560</td>\n",
       "      <td>0.787163</td>\n",
       "      <td>0.937847</td>\n",
       "      <td>1.511747</td>\n",
       "      <td>-0.627653</td>\n",
       "      <td>-0.364460</td>\n",
       "      <td>1.336792</td>\n",
       "      <td>-0.331497</td>\n",
       "    </tr>\n",
       "    <tr>\n",
       "      <th>3</th>\n",
       "      <td>-0.911069</td>\n",
       "      <td>-1.097003</td>\n",
       "      <td>-0.632977</td>\n",
       "      <td>-0.487941</td>\n",
       "      <td>0.787163</td>\n",
       "      <td>-0.539874</td>\n",
       "      <td>1.314908</td>\n",
       "      <td>-0.627653</td>\n",
       "      <td>0.202025</td>\n",
       "      <td>0.283238</td>\n",
       "      <td>0.557273</td>\n",
       "    </tr>\n",
       "    <tr>\n",
       "      <th>4</th>\n",
       "      <td>0.371287</td>\n",
       "      <td>0.129690</td>\n",
       "      <td>1.306939</td>\n",
       "      <td>-0.247033</td>\n",
       "      <td>0.787163</td>\n",
       "      <td>0.160504</td>\n",
       "      <td>1.142675</td>\n",
       "      <td>-0.627653</td>\n",
       "      <td>-0.710538</td>\n",
       "      <td>1.154598</td>\n",
       "      <td>-0.715445</td>\n",
       "    </tr>\n",
       "  </tbody>\n",
       "</table>\n",
       "</div>"
      ],
      "text/plain": [
       "   danceability    energy       key  loudness      mode  speechiness  \\\n",
       "0     -0.457822  0.308414 -1.187239  0.009805  0.787163    -0.391332   \n",
       "1     -0.408076 -0.609575  1.029808 -0.103078 -1.270385    -0.540643   \n",
       "2     -0.314110 -0.004353 -0.078715  0.059560  0.787163     0.937847   \n",
       "3     -0.911069 -1.097003 -0.632977 -0.487941  0.787163    -0.539874   \n",
       "4      0.371287  0.129690  1.306939 -0.247033  0.787163     0.160504   \n",
       "\n",
       "   acousticness  instrumentalness  liveness   valence     tempo  \n",
       "0      1.191884         -0.627617  1.092214  1.515025 -0.503410  \n",
       "1      1.324135         -0.625991  0.192504  0.984287 -0.414648  \n",
       "2      1.511747         -0.627653 -0.364460  1.336792 -0.331497  \n",
       "3      1.314908         -0.627653  0.202025  0.283238  0.557273  \n",
       "4      1.142675         -0.627653 -0.710538  1.154598 -0.715445  "
      ]
     },
     "metadata": {},
     "output_type": "display_data"
    }
   ],
   "source": [
    "scaler = StandardScaler()\n",
    "scaler.fit(df_features)\n",
    "X_scaled = scaler.transform(df_features)\n",
    "X_scaled_df = pd.DataFrame(X_scaled, columns = df_features.columns)\n",
    "display(X_scaled_df.head())"
   ]
  },
  {
   "cell_type": "markdown",
   "metadata": {
    "slideshow": {
     "slide_type": "slide"
    }
   },
   "source": [
    "## 2.3 Clustering the songs"
   ]
  },
  {
   "cell_type": "code",
   "execution_count": 56,
   "metadata": {
    "slideshow": {
     "slide_type": "subslide"
    }
   },
   "outputs": [
    {
     "data": {
      "text/plain": [
       "KMeans(n_clusters=7, random_state=666)"
      ]
     },
     "execution_count": 56,
     "metadata": {},
     "output_type": "execute_result"
    }
   ],
   "source": [
    "kmeans = KMeans(n_clusters=7, random_state=666)\n",
    "kmeans.fit(X_scaled_df)"
   ]
  },
  {
   "cell_type": "code",
   "execution_count": 57,
   "metadata": {
    "slideshow": {
     "slide_type": "slide"
    }
   },
   "outputs": [
    {
     "data": {
      "text/plain": [
       "0    27763\n",
       "1    14116\n",
       "2     5106\n",
       "3    54559\n",
       "4    15215\n",
       "5    27198\n",
       "6    38889\n",
       "dtype: int64"
      ]
     },
     "execution_count": 57,
     "metadata": {},
     "output_type": "execute_result"
    }
   ],
   "source": [
    "# count number of songs per cluster\n",
    "\n",
    "clusters = kmeans.predict(X_scaled_df)\n",
    "#clusters\n",
    "pd.Series(clusters).value_counts().sort_index()"
   ]
  },
  {
   "cell_type": "markdown",
   "metadata": {
    "slideshow": {
     "slide_type": "skip"
    }
   },
   "source": [
    "## 2.4 Find optimal K"
   ]
  },
  {
   "cell_type": "markdown",
   "metadata": {
    "slideshow": {
     "slide_type": "skip"
    }
   },
   "source": [
    "K = range(2, 21)\n",
    "inertia = []\n",
    "\n",
    "for k in K:\n",
    "    print(\"Training a K-Means model with {} clusters! \".format(k))\n",
    "    print()\n",
    "    kmeans = KMeans(n_clusters=k,\n",
    "                    random_state=666)\n",
    "    kmeans.fit(X_scaled_df)\n",
    "    inertia.append(kmeans.inertia_)\n",
    "\n",
    "import numpy as np\n",
    "import matplotlib.pyplot as plt\n",
    "%matplotlib inline\n",
    "\n",
    "plt.figure(figsize=(16,8))\n",
    "plt.plot(K, inertia, 'bx-')\n",
    "plt.xlabel('k')\n",
    "plt.ylabel('inertia')\n",
    "plt.xticks(np.arange(min(K), max(K)+1, 1.0))\n",
    "plt.title('Elbow Method showing the optimal k')"
   ]
  },
  {
   "cell_type": "markdown",
   "metadata": {
    "slideshow": {
     "slide_type": "slide"
    }
   },
   "source": [
    "## 2.5 Bring the songs and the clusters together"
   ]
  },
  {
   "cell_type": "code",
   "execution_count": 58,
   "metadata": {
    "slideshow": {
     "slide_type": "subslide"
    }
   },
   "outputs": [
    {
     "data": {
      "text/html": [
       "<div>\n",
       "<style scoped>\n",
       "    .dataframe tbody tr th:only-of-type {\n",
       "        vertical-align: middle;\n",
       "    }\n",
       "\n",
       "    .dataframe tbody tr th {\n",
       "        vertical-align: top;\n",
       "    }\n",
       "\n",
       "    .dataframe thead th {\n",
       "        text-align: right;\n",
       "    }\n",
       "</style>\n",
       "<table border=\"1\" class=\"dataframe\">\n",
       "  <thead>\n",
       "    <tr style=\"text-align: right;\">\n",
       "      <th></th>\n",
       "      <th>danceability</th>\n",
       "      <th>energy</th>\n",
       "      <th>key</th>\n",
       "      <th>loudness</th>\n",
       "      <th>mode</th>\n",
       "      <th>speechiness</th>\n",
       "      <th>acousticness</th>\n",
       "      <th>instrumentalness</th>\n",
       "      <th>liveness</th>\n",
       "      <th>valence</th>\n",
       "      <th>...</th>\n",
       "      <th>uri</th>\n",
       "      <th>track_href</th>\n",
       "      <th>analysis_url</th>\n",
       "      <th>duration_ms</th>\n",
       "      <th>time_signature</th>\n",
       "      <th>track_name</th>\n",
       "      <th>artist_name</th>\n",
       "      <th>artist_id</th>\n",
       "      <th>title_artist</th>\n",
       "      <th>cluster</th>\n",
       "    </tr>\n",
       "  </thead>\n",
       "  <tbody>\n",
       "    <tr>\n",
       "      <th>0</th>\n",
       "      <td>0.491</td>\n",
       "      <td>0.698</td>\n",
       "      <td>1</td>\n",
       "      <td>-8.913</td>\n",
       "      <td>1</td>\n",
       "      <td>0.0503</td>\n",
       "      <td>0.669</td>\n",
       "      <td>0.000012</td>\n",
       "      <td>0.4520</td>\n",
       "      <td>0.827</td>\n",
       "      <td>...</td>\n",
       "      <td>spotify:track:2OGawqjrXSuT9REyNfDo6w</td>\n",
       "      <td>https://api.spotify.com/v1/tracks/2OGawqjrXSuT...</td>\n",
       "      <td>https://api.spotify.com/v1/audio-analysis/2OGa...</td>\n",
       "      <td>301857</td>\n",
       "      <td>4</td>\n",
       "      <td>Aaj Ka Ye Din</td>\n",
       "      <td>Kalyanji-Anandji</td>\n",
       "      <td>7pWXlTjky0KXWgbdZi9ebq</td>\n",
       "      <td>aaj ka ye din  by  kalyanji-anandji</td>\n",
       "      <td>3</td>\n",
       "    </tr>\n",
       "    <tr>\n",
       "      <th>1</th>\n",
       "      <td>0.500</td>\n",
       "      <td>0.472</td>\n",
       "      <td>9</td>\n",
       "      <td>-9.487</td>\n",
       "      <td>0</td>\n",
       "      <td>0.0309</td>\n",
       "      <td>0.712</td>\n",
       "      <td>0.000569</td>\n",
       "      <td>0.2630</td>\n",
       "      <td>0.693</td>\n",
       "      <td>...</td>\n",
       "      <td>spotify:track:5DdZw9x5dLgpzXjj6GHxIn</td>\n",
       "      <td>https://api.spotify.com/v1/tracks/5DdZw9x5dLgp...</td>\n",
       "      <td>https://api.spotify.com/v1/audio-analysis/5DdZ...</td>\n",
       "      <td>279518</td>\n",
       "      <td>4</td>\n",
       "      <td>Main Hoon Tere Samne</td>\n",
       "      <td>Kalyanji-Anandji</td>\n",
       "      <td>7pWXlTjky0KXWgbdZi9ebq</td>\n",
       "      <td>main hoon tere samne  by  kalyanji-anandji</td>\n",
       "      <td>5</td>\n",
       "    </tr>\n",
       "    <tr>\n",
       "      <th>2</th>\n",
       "      <td>0.517</td>\n",
       "      <td>0.621</td>\n",
       "      <td>5</td>\n",
       "      <td>-8.660</td>\n",
       "      <td>1</td>\n",
       "      <td>0.2230</td>\n",
       "      <td>0.773</td>\n",
       "      <td>0.000000</td>\n",
       "      <td>0.1460</td>\n",
       "      <td>0.782</td>\n",
       "      <td>...</td>\n",
       "      <td>spotify:track:3Ho6oTWwISyvTI2y0TqrjP</td>\n",
       "      <td>https://api.spotify.com/v1/tracks/3Ho6oTWwISyv...</td>\n",
       "      <td>https://api.spotify.com/v1/audio-analysis/3Ho6...</td>\n",
       "      <td>364712</td>\n",
       "      <td>4</td>\n",
       "      <td>Dulha Dulhan Ki Jodi</td>\n",
       "      <td>Kalyanji-Anandji</td>\n",
       "      <td>7pWXlTjky0KXWgbdZi9ebq</td>\n",
       "      <td>dulha dulhan ki jodi  by  kalyanji-anandji</td>\n",
       "      <td>3</td>\n",
       "    </tr>\n",
       "    <tr>\n",
       "      <th>3</th>\n",
       "      <td>0.409</td>\n",
       "      <td>0.352</td>\n",
       "      <td>3</td>\n",
       "      <td>-11.444</td>\n",
       "      <td>1</td>\n",
       "      <td>0.0310</td>\n",
       "      <td>0.709</td>\n",
       "      <td>0.000000</td>\n",
       "      <td>0.2650</td>\n",
       "      <td>0.516</td>\n",
       "      <td>...</td>\n",
       "      <td>spotify:track:0eOfVox5SIKMmSAi9ayd7J</td>\n",
       "      <td>https://api.spotify.com/v1/tracks/0eOfVox5SIKM...</td>\n",
       "      <td>https://api.spotify.com/v1/audio-analysis/0eOf...</td>\n",
       "      <td>93519</td>\n",
       "      <td>3</td>\n",
       "      <td>Ankh Zhapak Te Khel Gaye</td>\n",
       "      <td>Kalyanji-Anandji</td>\n",
       "      <td>7pWXlTjky0KXWgbdZi9ebq</td>\n",
       "      <td>ankh zhapak te khel gaye  by  kalyanji-anandji</td>\n",
       "      <td>5</td>\n",
       "    </tr>\n",
       "    <tr>\n",
       "      <th>4</th>\n",
       "      <td>0.641</td>\n",
       "      <td>0.654</td>\n",
       "      <td>10</td>\n",
       "      <td>-10.219</td>\n",
       "      <td>1</td>\n",
       "      <td>0.1220</td>\n",
       "      <td>0.653</td>\n",
       "      <td>0.000000</td>\n",
       "      <td>0.0733</td>\n",
       "      <td>0.736</td>\n",
       "      <td>...</td>\n",
       "      <td>spotify:track:0XhArL19uo3LVvpWWCY9Zu</td>\n",
       "      <td>https://api.spotify.com/v1/tracks/0XhArL19uo3L...</td>\n",
       "      <td>https://api.spotify.com/v1/audio-analysis/0XhA...</td>\n",
       "      <td>300053</td>\n",
       "      <td>4</td>\n",
       "      <td>Pyare Tere Pyar Mein</td>\n",
       "      <td>Kalyanji-Anandji</td>\n",
       "      <td>7pWXlTjky0KXWgbdZi9ebq</td>\n",
       "      <td>pyare tere pyar mein  by  kalyanji-anandji</td>\n",
       "      <td>3</td>\n",
       "    </tr>\n",
       "  </tbody>\n",
       "</table>\n",
       "<p>5 rows × 23 columns</p>\n",
       "</div>"
      ],
      "text/plain": [
       "   danceability  energy  key  loudness  mode  speechiness  acousticness  \\\n",
       "0         0.491   0.698    1    -8.913     1       0.0503         0.669   \n",
       "1         0.500   0.472    9    -9.487     0       0.0309         0.712   \n",
       "2         0.517   0.621    5    -8.660     1       0.2230         0.773   \n",
       "3         0.409   0.352    3   -11.444     1       0.0310         0.709   \n",
       "4         0.641   0.654   10   -10.219     1       0.1220         0.653   \n",
       "\n",
       "   instrumentalness  liveness  valence  ...  \\\n",
       "0          0.000012    0.4520    0.827  ...   \n",
       "1          0.000569    0.2630    0.693  ...   \n",
       "2          0.000000    0.1460    0.782  ...   \n",
       "3          0.000000    0.2650    0.516  ...   \n",
       "4          0.000000    0.0733    0.736  ...   \n",
       "\n",
       "                                    uri  \\\n",
       "0  spotify:track:2OGawqjrXSuT9REyNfDo6w   \n",
       "1  spotify:track:5DdZw9x5dLgpzXjj6GHxIn   \n",
       "2  spotify:track:3Ho6oTWwISyvTI2y0TqrjP   \n",
       "3  spotify:track:0eOfVox5SIKMmSAi9ayd7J   \n",
       "4  spotify:track:0XhArL19uo3LVvpWWCY9Zu   \n",
       "\n",
       "                                          track_href  \\\n",
       "0  https://api.spotify.com/v1/tracks/2OGawqjrXSuT...   \n",
       "1  https://api.spotify.com/v1/tracks/5DdZw9x5dLgp...   \n",
       "2  https://api.spotify.com/v1/tracks/3Ho6oTWwISyv...   \n",
       "3  https://api.spotify.com/v1/tracks/0eOfVox5SIKM...   \n",
       "4  https://api.spotify.com/v1/tracks/0XhArL19uo3L...   \n",
       "\n",
       "                                        analysis_url duration_ms  \\\n",
       "0  https://api.spotify.com/v1/audio-analysis/2OGa...      301857   \n",
       "1  https://api.spotify.com/v1/audio-analysis/5DdZ...      279518   \n",
       "2  https://api.spotify.com/v1/audio-analysis/3Ho6...      364712   \n",
       "3  https://api.spotify.com/v1/audio-analysis/0eOf...       93519   \n",
       "4  https://api.spotify.com/v1/audio-analysis/0XhA...      300053   \n",
       "\n",
       "  time_signature                track_name       artist_name  \\\n",
       "0              4             Aaj Ka Ye Din  Kalyanji-Anandji   \n",
       "1              4      Main Hoon Tere Samne  Kalyanji-Anandji   \n",
       "2              4      Dulha Dulhan Ki Jodi  Kalyanji-Anandji   \n",
       "3              3  Ankh Zhapak Te Khel Gaye  Kalyanji-Anandji   \n",
       "4              4      Pyare Tere Pyar Mein  Kalyanji-Anandji   \n",
       "\n",
       "                artist_id                                    title_artist  \\\n",
       "0  7pWXlTjky0KXWgbdZi9ebq             aaj ka ye din  by  kalyanji-anandji   \n",
       "1  7pWXlTjky0KXWgbdZi9ebq      main hoon tere samne  by  kalyanji-anandji   \n",
       "2  7pWXlTjky0KXWgbdZi9ebq      dulha dulhan ki jodi  by  kalyanji-anandji   \n",
       "3  7pWXlTjky0KXWgbdZi9ebq  ankh zhapak te khel gaye  by  kalyanji-anandji   \n",
       "4  7pWXlTjky0KXWgbdZi9ebq      pyare tere pyar mein  by  kalyanji-anandji   \n",
       "\n",
       "  cluster  \n",
       "0       3  \n",
       "1       5  \n",
       "2       3  \n",
       "3       5  \n",
       "4       3  \n",
       "\n",
       "[5 rows x 23 columns]"
      ]
     },
     "execution_count": 58,
     "metadata": {},
     "output_type": "execute_result"
    }
   ],
   "source": [
    "df['cluster'] = clusters\n",
    "df.head()"
   ]
  },
  {
   "cell_type": "markdown",
   "metadata": {
    "slideshow": {
     "slide_type": "slide"
    }
   },
   "source": [
    "\n",
    "\n",
    "## 3 Loading Spotify"
   ]
  },
  {
   "cell_type": "code",
   "execution_count": 59,
   "metadata": {
    "slideshow": {
     "slide_type": "subslide"
    }
   },
   "outputs": [],
   "source": [
    "# Import credentials\n",
    "\n",
    "import config\n",
    "\n",
    "# Load Libraries and pass credentials to spotify API\n",
    "\n",
    "import spotipy\n",
    "import json\n",
    "from spotipy.oauth2 import SpotifyClientCredentials\n",
    "import pprint\n",
    "import pandas as pd\n",
    "\n",
    "sp = spotipy.Spotify(auth_manager=SpotifyClientCredentials(client_id=config.c_id, client_secret=config.c_se))"
   ]
  },
  {
   "cell_type": "markdown",
   "metadata": {
    "slideshow": {
     "slide_type": "skip"
    }
   },
   "source": [
    "user_input = input(\"What's you favorite Song:\") # user input\n",
    "user_input = user_input.lower()\n",
    "if (df['Title'].str.lower() == user_input).any():\n",
    "    #df_exclude = df.drop(user_input.title(),axis=0)\n",
    "    print('You might also like:')\n",
    "    print(df['title_artist'].sample(n=1).values[0])\n",
    "else:\n",
    "    print('Unfortunately, the song is not in the hot list!')"
   ]
  },
  {
   "cell_type": "markdown",
   "metadata": {
    "slideshow": {
     "slide_type": "slide"
    }
   },
   "source": [
    "## 4. Recommender"
   ]
  },
  {
   "cell_type": "code",
   "execution_count": 63,
   "metadata": {
    "slideshow": {
     "slide_type": "subslide"
    }
   },
   "outputs": [
    {
     "name": "stdout",
     "output_type": "stream",
     "text": [
      "Your choice: beatles\n",
      "There are more than one song containing \"beatles\"\n",
      "Select the song from choices: \n",
      "0: 1822! - live at the bbc for \"pop go the beatles\" / 23rd july, 1963  by  the beatles\n",
      "1: a day in the life - hummed last chord / takes 8, 9, 10 and 11  by  the beatles\n",
      "2: a day in the life - orchestra overdub  by  the beatles\n",
      "3: a day in the life - remastered 2009  by  the beatles\n",
      "4: a day in the life - remix  by  the beatles\n",
      "5: a day in the life - take 1  by  the beatles\n",
      "6: a day in the life - take 1 with hums  by  the beatles\n",
      "7: a day in the life - take 2  by  the beatles\n",
      "8: a day in the life - the last chord  by  the beatles\n",
      "9: a hard day's night - live / remastered  by  the beatles\n",
      "10: a hard day's night - live at the bbc for \"top gear\" / 16th july, 1964  by  the beatles\n",
      "11: a hard day's night - remastered 2015  by  the beatles\n",
      "12: a little rhyme - live at the bbc for \"pop go the beatles\" / 16th july, 1963  by  the beatles\n",
      "13: a real treat - live at the bbc for \"pop go the beatles\" / 25th june, 1963  by  the beatles\n",
      "14: a shot of rhythm and blues - live at the bbc for \"pop go the beatles\" / 27th august, 1963  by  the beatles\n",
      "15: a taste of honey - live at the bbc for \"pop go the beatles\" / 23rd july, 1963  by  the beatles\n",
      "16: absolutely fab - live at the bbc for \"pop go the beatles\" / 25th june, 1963  by  the beatles\n",
      "17: across the universe - 2021 mix  by  the beatles\n",
      "18: across the universe - naked version / remastered 2013  by  the beatles\n",
      "19: across the universe - remastered 2009  by  the beatles\n",
      "20: all my loving - live / remastered  by  the beatles\n",
      "21: all my loving - live at the bbc for \"from us to you say the beatles\" / 30th march, 1964  by  the beatles\n",
      "22: all together now  by  the beatles\n",
      "23: all together now - remastered 2009  by  the beatles\n",
      "24: all you need is love  by  the beatles\n",
      "25: all you need is love - remastered 2009  by  the beatles\n",
      "26: all you need is love - remastered 2015  by  the beatles\n",
      "27: and here we are again - live at the bbc for \"pop go the beatles\" / 23rd july, 1963  by  the beatles\n",
      "28: and your bird can sing - remastered 2009  by  the beatles\n",
      "29: anna (go to him) - live at the bbc for \"pop go the beatles\" / 27th august, 1963  by  the beatles\n",
      "30: ask me why - live at the bbc for \"pop go the beatles\" / 24th september, 1963  by  the beatles\n",
      "31: baby it's you - live at the bbc for \"pop go the beatles\" / 11th june, 1963  by  the beatles\n",
      "32: baby you're a rich man  by  the beatles\n",
      "33: baby's in black - live / bonus track  by  the beatles\n",
      "34: baby, you're a rich man - remastered 2009  by  the beatles\n",
      "35: back in the u.s.s.r. - 2018 mix  by  the beatles\n",
      "36: back in the u.s.s.r. - esher demo  by  the beatles\n",
      "37: back in the u.s.s.r. - remastered 2009  by  the beatles\n",
      "38: beatles greetings - live at the bbc for \"the public ear\" / 3rd november, 1963  by  the beatles\n",
      "39: beautiful dreamer - live at the bbc for \"saturday club\" / 26th january, 1963  by  the beatles\n",
      "40: because - 2019 mix  by  the beatles\n",
      "41: because - remastered 2009  by  the beatles\n",
      "42: because - take 1 / instrumental  by  the beatles\n",
      "43: being for the benefit of mr. kite! - remastered 2009  by  the beatles\n",
      "44: being for the benefit of mr. kite! - remix  by  the beatles\n",
      "45: being for the benefit of mr. kite! - speech from before take 1 / take 4 and speech at end  by  the beatles\n",
      "46: being for the benefit of mr. kite! - take 4  by  the beatles\n",
      "47: being for the benefit of mr. kite! - take 7  by  the beatles\n",
      "48: birthday - 2018 mix  by  the beatles\n",
      "49: birthday - remastered 2009  by  the beatles\n",
      "50: black beatles  by  rae sremmurd\n",
      "51: black beatles - madsonik remix  by  rae sremmurd\n",
      "52: blackbird - 2018 mix  by  the beatles\n",
      "53: blackbird - esher demo  by  the beatles\n",
      "54: blackbird - remastered 2009  by  the beatles\n",
      "55: blue jay way - remastered 2009  by  the beatles\n",
      "56: boys - live / remastered  by  the beatles\n",
      "57: boys - live at the bbc for \"pop go the beatles\" / 25th june, 1963  by  the beatles\n",
      "58: brian bathtubes - live at the bbc for \"saturday club\" / 21st december, 1963  by  the beatles\n",
      "59: bumper bundle - live at the bbc for \"pop go the beatles\" / 25th june, 1963  by  the beatles\n",
      "60: bye, bye - live at the bbc for \"pop go the beatles\" / 24th september, 1963  by  the beatles\n",
      "61: can you dig it?  by  the beatles\n",
      "62: can't buy me love - live / remastered  by  the beatles\n",
      "63: can't buy me love - live at the bbc for \"from us to you say the beatles\" / 10th march, 1964  by  the beatles\n",
      "64: can't buy me love - remastered 2015  by  the beatles\n",
      "65: carol - live at the bbc for \"pop go the beatles\" / 16th july, 1963  by  the beatles\n",
      "66: carry that weight - 2019 mix  by  the beatles\n",
      "67: carry that weight - remastered 2009  by  the beatles\n",
      "68: chains - live at the bbc for \"pop go the beatles\" / 25th june, 1963  by  the beatles\n",
      "69: clarabella - live at the bbc for \"pop go the beatles\" / 16th july, 1963  by  the beatles\n",
      "70: come and get it - studio demo  by  the beatles\n",
      "71: come together - 2019 mix  by  the beatles\n",
      "72: come together - remastered 2009  by  the beatles\n",
      "73: come together - remastered 2015  by  the beatles\n",
      "74: come together - take 5  by  the beatles\n",
      "75: concentrate on the sound - mono  by  the beatles\n",
      "76: crinsk dee night - live at the bbc for \"top gear\" / 16th july, 1964  by  the beatles\n",
      "77: cry baby cry - 2018 mix  by  the beatles\n",
      "78: cry baby cry - esher demo  by  the beatles\n",
      "79: cry baby cry - remastered 2009  by  the beatles\n",
      "80: crying, waiting, hoping - live at the bbc for \"pop go the beatles\" / 6th august, 1963  by  the beatles\n",
      "81: cuando escucho una canción de los beatles - fragmento  by  totem uruguay\n",
      "82: day tripper - remastered 2015  by  the beatles\n",
      "83: dear prudence - 2018 mix  by  the beatles\n",
      "84: dear prudence - esher demo  by  the beatles\n",
      "85: dear prudence - remastered 2009  by  the beatles\n",
      "86: dear wack! - live at the bbc for \"saturday club\" / 24th august, 1963  by  the beatles\n",
      "87: devil in her heart - live at the bbc for \"pop go the beatles\" / 25th september, 1963  by  the beatles\n",
      "88: dig a pony - 1969 glyn johns mix  by  the beatles\n",
      "89: dig a pony - 2021 mix  by  the beatles\n",
      "90: dig a pony - naked version / remastered 2013  by  the beatles\n",
      "91: dig a pony - remastered 2009  by  the beatles\n",
      "92: dig a pony - take 14  by  the beatles\n",
      "93: dig it - 1969 glyn johns mix  by  the beatles\n",
      "94: dig it - 2021 mix  by  the beatles\n",
      "95: dig it - remastered 2009  by  the beatles\n",
      "96: dizzy miss lizzy - live / remastered  by  the beatles\n",
      "97: do you want to know a secret - live at the bbc for \"pop go the beatles\" / 30th july, 1963  by  the beatles\n",
      "98: doctor robert - remastered 2009  by  the beatles\n",
      "99: don't let me down - 1969 glyn johns mix  by  the beatles\n",
      "100: don't let me down - naked version / remastered 2013  by  the beatles\n",
      "101: don't pass me by - 2018 mix  by  the beatles\n",
      "102: don't pass me by - remastered 2009  by  the beatles\n",
      "103: don’t let me down - first rooftop performance  by  the beatles\n",
      "104: drive my car - remastered 2009  by  the beatles\n",
      "105: eight days a week - remastered 2015  by  the beatles\n",
      "106: eleanor rigby  by  the beatles\n",
      "107: eleanor rigby - remastered 2009  by  the beatles\n",
      "108: eleanor rigby - remastered 2015  by  the beatles\n",
      "109: everybody's got something to hide except me and my monkey - 2018 mix  by  the beatles\n",
      "110: everybody's got something to hide except me and my monkey - esher demo  by  the beatles\n",
      "111: everybody's got something to hide except me and my monkey - remastered 2009  by  the beatles\n",
      "112: everybody’s trying to be my baby - live / bonus track  by  the beatles\n",
      "113: falling - beatless mix  by  meeting molly\n",
      "114: fixing a hole - remastered 2009  by  the beatles\n",
      "115: fixing a hole - remix  by  the beatles\n",
      "116: fixing a hole - speech and take 3  by  the beatles\n",
      "117: fixing a hole - take 1  by  the beatles\n",
      "118: flying - remastered 2009  by  the beatles\n",
      "119: for no one - remastered 2009  by  the beatles\n",
      "120: for the very first time - dirtytwo's midas beatless version  by  hnny\n",
      "121: for you blue - 1969 glyn johns mix  by  the beatles\n",
      "122: for you blue - 2021 mix  by  the beatles\n",
      "123: for you blue - naked version / remastered 2013  by  the beatles\n",
      "124: for you blue - remastered 2009  by  the beatles\n",
      "125: for you blue - take 4  by  the beatles\n",
      "126: from fluff to you - live at the bbc for \"from us to you say the beatles\" / 10th march, 1964  by  the beatles\n",
      "127: from me to you - live at the bbc for \"easy beat\" / 20th october, 1963  by  the beatles\n",
      "128: from me to you - mono / remastered  by  the beatles\n",
      "129: from us to you - live at the bbc / opening theme from \"from us to you\" / 1964  by  the beatles\n",
      "130: george - pop profile - live at the bbc / 30th november, 1965  by  the beatles\n",
      "131: get back - 1969 glyn johns mix  by  the beatles\n",
      "132: get back - 2021 mix  by  the beatles\n",
      "133: get back - naked version / remastered 2013  by  the beatles\n",
      "134: get back - remastered 2009  by  the beatles\n",
      "135: get back - remastered 2015  by  the beatles\n",
      "136: get back - take 19  by  the beatles\n",
      "137: get back - take 8  by  the beatles\n",
      "138: getting better  by  the beatles\n",
      "139: getting better - remastered 2009  by  the beatles\n",
      "140: getting better - remix  by  the beatles\n",
      "141: getting better - take 1 / instrumental and speech at the end  by  the beatles\n",
      "142: getting better - take 12  by  the beatles\n",
      "143: gimme some truth - rehearsal / mono  by  the beatles\n",
      "144: girl - remastered 2009  by  the beatles\n",
      "145: glad all over - live at the bbc for \"pop go the beatles\" / 20th august, 1963  by  the beatles\n",
      "146: glad all over - live at the bbc for \"saturday club\" / 24th august, 1963  by  the beatles\n",
      "147: glass onion - 2018 mix  by  the beatles\n",
      "148: glass onion - esher demo  by  the beatles\n",
      "149: glass onion - remastered 2009  by  the beatles\n",
      "150: golden slumbers - 2019 mix  by  the beatles\n",
      "151: golden slumbers - remastered 2009  by  the beatles\n",
      "152: golden slumbers / carry that weight - take 17 / instrumental / strings & brass only  by  the beatles\n",
      "153: golden slumbers / carry that weight - takes 1-3 / medley  by  the beatles\n",
      "154: good day sunshine - remastered 2009  by  the beatles\n",
      "155: good morning good morning - remastered 2009  by  the beatles\n",
      "156: good morning good morning - remix  by  the beatles\n",
      "157: good morning good morning - take 1 / instrumental breakdown  by  the beatles\n",
      "158: good morning good morning - take 8  by  the beatles\n",
      "159: good night - 2018 mix  by  the beatles\n",
      "160: good night - remastered 2009  by  the beatles\n",
      "161: goodbye - home demo  by  the beatles\n",
      "162: got to get you into my life - remastered 2009  by  the beatles\n",
      "163: happiness is a warm gun - 2018 mix  by  the beatles\n",
      "164: happiness is a warm gun - esher demo  by  the beatles\n",
      "165: happiness is a warm gun - remastered 2009  by  the beatles\n",
      "166: happy birthday dear saturday club - live at the bbc for \"saturday club\" / 5th october, 1963  by  the beatles\n",
      "167: hello! - live at the bbc for \"pop go the beatles\" / 25th june, 1963  by  the beatles\n",
      "168: hello, goodbye - remastered 2009  by  the beatles\n",
      "169: hello, goodbye - remastered 2015  by  the beatles\n",
      "170: help! - live / remastered  by  the beatles\n",
      "171: help! - remastered 2015  by  the beatles\n",
      "172: helter skelter - 2018 mix  by  the beatles\n",
      "173: helter skelter - remastered 2009  by  the beatles\n",
      "174: her majesty - 2019 mix  by  the beatles\n",
      "175: her majesty - remastered 2009  by  the beatles\n",
      "176: her majesty - takes 1-3  by  the beatles\n",
      "177: here comes the sun - 2019 mix  by  the beatles\n",
      "178: here comes the sun - remastered 2009  by  the beatles\n",
      "179: here comes the sun - take 9  by  the beatles\n",
      "180: here, there and everywhere - remastered 2009  by  the beatles\n",
      "181: hey bulldog  by  the beatles\n",
      "182: hey bulldog - remastered 2009  by  the beatles\n",
      "183: hey jude - remastered 2015  by  the beatles\n",
      "184: hey paul…. - live at the bbc for \"pop go the beatles\" / 25th june, 1963  by  the beatles\n",
      "185: honey pie - 2018 mix  by  the beatles\n",
      "186: honey pie - esher demo  by  the beatles\n",
      "187: honey pie - remastered 2009  by  the beatles\n",
      "188: how about it, gorgeous? - live at the bbc for \"pop go the beatles\" / 30th july, 1963  by  the beatles\n",
      "189: i am the walrus - remastered 2009  by  the beatles\n",
      "190: i don't know why i'm moaning - speech / mono  by  the beatles\n",
      "191: i feel fine - remastered 2015  by  the beatles\n",
      "192: i got a woman - live at the bbc for \"pop go the beatles\" / 13th august, 1963  by  the beatles\n",
      "193: i got a woman - live at the bbc for \"saturday club\" / 4th april, 1964  by  the beatles\n",
      "194: i me mine - 2021 mix  by  the beatles\n",
      "195: i me mine - naked version / remastered 2013  by  the beatles\n",
      "196: i me mine - rehearsal / mono  by  the beatles\n",
      "197: i me mine - remastered 2009  by  the beatles\n",
      "198: i saw her standing there - live at the bbc for \"easy beat\" / 20th october 1963  by  the beatles\n",
      "199: i saw her standing there - live at the bbc for \"saturday club\" / 5th october, 1963  by  the beatles\n",
      "200: i wanna be your man - live at the bbc for \"from us to you say the beatles\" / 30th march, 1964  by  the beatles\n",
      "201: i want to hold your hand - live / bonus track  by  the beatles\n",
      "202: i want to hold your hand - live at the bbc for \"the beatles say from us to you\" / 26th december, 1963  by  the beatles\n",
      "203: i want to hold your hand - remastered 2015  by  the beatles\n",
      "204: i want to tell you - remastered 2009  by  the beatles\n",
      "205: i want you (she's so heavy) - 2019 mix  by  the beatles\n",
      "206: i want you (she's so heavy) - remastered 2009  by  the beatles\n",
      "207: i want you (she's so heavy) - trident recording session & reduction mix  by  the beatles\n",
      "208: i will - 2018 mix  by  the beatles\n",
      "209: i will - remastered 2009  by  the beatles\n",
      "210: i'll be on my way - live at the bbc for \"side by side\" / 24th june, 1963  by  the beatles\n",
      "211: i'll get you - live at the bbc for \"saturday club\" / 5th october, 1963  by  the beatles\n",
      "212: i'm gonna sit right down and cry (over you) - live at the bbc for \"pop go the beatles\" / 6th august, 1963  by  the beatles\n",
      "213: i'm looking through you - remastered 2009  by  the beatles\n",
      "214: i'm only sleeping - remastered 2009  by  the beatles\n",
      "215: i'm so tired - 2018 mix  by  the beatles\n",
      "216: i'm so tired - esher demo  by  the beatles\n",
      "217: i'm so tired - remastered 2009  by  the beatles\n",
      "218: i'm talking about you - live at the bbc for \"saturday club\" / 16th march, 1963  by  the beatles\n",
      "219: i've got a feeling - 1969 glyn johns mix  by  the beatles\n",
      "220: i've got a feeling - 2021 mix  by  the beatles\n",
      "221: i've got a feeling - naked version / remastered 2013  by  the beatles\n",
      "222: i've got a feeling - remastered 2009  by  the beatles\n",
      "223: if i needed someone - remastered 2009  by  the beatles\n",
      "224: if i wasn’t in america - live at the bbc for \"saturday club\" / 15th february, 1964  by  the beatles\n",
      "225: image of emptiness - beatless mix  by  meeting molly\n",
      "226: in my life - remastered 2009  by  the beatles\n",
      "227: it's all too much  by  the beatles\n",
      "228: it's all too much - remastered 2009  by  the beatles\n",
      "229: i’ve got a feeling - take 10  by  the beatles\n",
      "230: john - pop profile - live at the bbc / 30th november, 1965  by  the beatles\n",
      "231: johnny b goode - live at the bbc for \"saturday club\" / 15th february, 1964  by  the beatles\n",
      "232: julia - 2018 mix  by  the beatles\n",
      "233: julia - esher demo  by  the beatles\n",
      "234: julia - remastered 2009  by  the beatles\n",
      "235: just a rumour - live at the bbc for \"from us to you say the beatles\" / 30th march, 1964  by  the beatles\n",
      "236: keep your hands off my baby - live at the bbc for \"saturday club\" / 26th january, 1963  by  the beatles\n",
      "237: lady madonna - remastered 2015  by  the beatles\n",
      "238: lend me your comb - live at the bbc for \"pop go the beatles\" / 16th july, 1963  by  the beatles\n",
      "239: let it be - 2021 mix  by  the beatles\n",
      "240: let it be - naked version / remastered 2013  by  the beatles\n",
      "241: let it be - remastered 2009  by  the beatles\n",
      "242: let it be - remastered 2015  by  the beatles\n",
      "243: let it be - take 28  by  the beatles\n",
      "244: let it be / please please me / let it be - take 10  by  the beatles\n",
      "245: lift lid again - live at the bbc for \"saturday club\" / 24th august, 1963  by  the beatles\n",
      "246: like making an album? - speech  by  the beatles\n",
      "247: lonesome tears in my eyes - live at the bbc for \"pop go the beatles\" / 23rd july, 1963  by  the beatles\n",
      "248: long tall sally - live / remastered  by  the beatles\n",
      "249: long tall sally - live at the bbc for \"pop go the beatles\" / 13th august, 1963  by  the beatles\n",
      "250: long tall sally - live at the bbc for \"top gear\" / 16th july, 1964  by  the beatles\n",
      "251: long, long, long - 2018 mix  by  the beatles\n",
      "252: long, long, long - remastered 2009  by  the beatles\n",
      "253: love me do - mono / remastered  by  the beatles\n",
      "254: love you to  by  the beatles\n",
      "255: love you to - remastered 2009  by  the beatles\n",
      "256: lovely rita - remastered 2009  by  the beatles\n",
      "257: lovely rita - remix  by  the beatles\n",
      "258: lovely rita - speech and take 9  by  the beatles\n",
      "259: lower 5e - live at the bbc for \"pop go the beatles\" / 10th september, 1963  by  the beatles\n",
      "260: lucille - live at the bbc for \"pop go the beatles\" / 17th september, 1963  by  the beatles\n",
      "261: lucille - live at the bbc for \"saturday club\" / 5th october, 1963  by  the beatles\n",
      "262: lucy in the sky with diamonds  by  the beatles\n",
      "263: lucy in the sky with diamonds - remastered 2009  by  the beatles\n",
      "264: lucy in the sky with diamonds - remix  by  the beatles\n",
      "265: lucy in the sky with diamonds - speech, false start and take 5  by  the beatles\n",
      "266: lucy in the sky with diamonds - take 1  by  the beatles\n",
      "267: lucy in the sky with diamonds - take 1 and speech at the end  by  the beatles\n",
      "268: maggie mae - 1969 glyn johns mix  by  the beatles\n",
      "269: maggie mae - 2021 mix  by  the beatles\n",
      "270: maggie mae - remastered 2009  by  the beatles\n",
      "271: maggie mae / fancy my chances with you - mono  by  the beatles\n",
      "272: magical mystery tour - remastered 2009  by  the beatles\n",
      "273: march of the meanies - remastered 2009  by  the beatles\n",
      "274: martha my dear - 2018 mix  by  the beatles\n",
      "275: martha my dear - remastered 2009  by  the beatles\n",
      "276: maxwell's silver hammer - 2019 mix  by  the beatles\n",
      "277: maxwell's silver hammer - remastered 2009  by  the beatles\n",
      "278: maxwell's silver hammer - take 12  by  the beatles\n",
      "279: mean mr mustard - 2019 mix  by  the beatles\n",
      "280: mean mr mustard - remastered 2009  by  the beatles\n",
      "281: mean mr. mustard - take 20  by  the beatles\n",
      "282: medley: i’m ready (aka rocker) / save the last dance for me / don’t let me down - 1969 glyn johns mix  by  the beatles\n",
      "283: memphis, tennessee - live at the bbc for \"pop go the beatles\" / 30th july, 1963  by  the beatles\n",
      "284: memphis, tennessee - live at the bbc for \"saturday club\" / 5th october, 1963  by  the beatles\n",
      "285: michelle - remastered 2009  by  the beatles\n",
      "286: misery - live at the bbc for \"here we go\" / 12th march, 1963  by  the beatles\n",
      "287: money (that's what i want) - live at the bbc for \"the beatles say from us to you\" / 26th december, 1963  by  the beatles\n",
      "288: morning camera / two of us - take 4  by  the beatles\n",
      "289: mother nature's son - 2018 mix  by  the beatles\n",
      "290: mother nature's son - esher demo  by  the beatles\n",
      "291: mother nature's son - remastered 2009  by  the beatles\n",
      "292: never mind, eh? - live at the bbc for \"pop go the beatles\" / 24th september, 1963  by  the beatles\n",
      "293: norwegian wood (this bird has flown) - remastered 2009  by  the beatles\n",
      "294: nothin' shakin' - live at the bbc for \"pop go the beatles\" / 23rd july, 1963  by  the beatles\n",
      "295: now hush, hush - live at the bbc for \"easy beat\" / 20th october, 1963  by  the beatles\n",
      "296: nowhere man  by  the beatles\n",
      "297: nowhere man - remastered 2009  by  the beatles\n",
      "298: ob-la-di, ob-la-da - 2018 mix  by  the beatles\n",
      "299: ob-la-di, ob-la-da - esher demo  by  the beatles\n",
      "300: ob-la-di, ob-la-da - remastered 2009  by  the beatles\n",
      "301: octopus's garden - 2019 mix  by  the beatles\n",
      "302: octopus's garden - remastered 2009  by  the beatles\n",
      "303: octopus's garden - take 9  by  the beatles\n",
      "304: octopus’s garden - rehearsal / mono  by  the beatles\n",
      "305: oh! darling - 2019 mix  by  the beatles\n",
      "306: oh! darling - jam  by  the beatles\n",
      "307: oh! darling - remastered 2009  by  the beatles\n",
      "308: oh! darling - take 4  by  the beatles\n",
      "309: old brown shoe - take 2  by  the beatles\n",
      "310: on the day shift now / all things must pass - rehearsals / mono  by  the beatles\n",
      "311: one after 909 - 1969 glyn johns mix  by  the beatles\n",
      "312: one after 909 - 2021 mix  by  the beatles\n",
      "313: one after 909 - naked version / remastered 2013  by  the beatles\n",
      "314: one after 909 - remastered 2009  by  the beatles\n",
      "315: one after 909 - take 3  by  the beatles\n",
      "316: only a northern song  by  the beatles\n",
      "317: only a northern song - remastered 2009  by  the beatles\n",
      "318: p.s. i love you - live at the bbc for \"pop go the beatles\" / 25th june, 1963  by  the beatles\n",
      "319: paperback writer - remastered 2015  by  the beatles\n",
      "320: penny lane - remastered 2009  by  the beatles\n",
      "321: penny lane - remastered 2015  by  the beatles\n",
      "322: penny lane - stereo mix 2017  by  the beatles\n",
      "323: penny lane - take 6 / instrumental  by  the beatles\n",
      "324: penny lane - vocal overdubs and speech  by  the beatles\n",
      "325: pepperland - remastered 2009  by  the beatles\n",
      "326: pepperland laid waste - remastered 2009  by  the beatles\n",
      "327: phase us - beatless mix  by  london elektricity\n",
      "328: piggies - 2018 mix  by  the beatles\n",
      "329: piggies - esher demo  by  the beatles\n",
      "330: piggies - remastered 2009  by  the beatles\n",
      "331: playa - deetron beatless remix  by  deetron\n",
      "332: please mister postman - live at the bbc for \"pop go the beatles\" / 30th july 1963  by  the beatles\n",
      "333: please please me - live at the bbc for \"pop go the beatles\" / 13th august, 1963  by  the beatles\n",
      "334: polythene pam - 2019 mix  by  the beatles\n",
      "335: polythene pam - rehearsal / mono  by  the beatles\n",
      "336: polythene pam - remastered 2009  by  the beatles\n",
      "337: polythene pam - take 27  by  the beatles\n",
      "338: revolution - esher demo  by  the beatles\n",
      "339: revolution 1 - 2018 mix  by  the beatles\n",
      "340: revolution 1 - remastered 2009  by  the beatles\n",
      "341: revolution 9 - 2018 mix  by  the beatles\n",
      "342: revolution 9 - remastered 2009  by  the beatles\n",
      "343: riding on a bus - live at the bbc for \"top gear\" / 26th november, 1964  by  the beatles\n",
      "344: ringo? yep! - live at the bbc for \"from us to you say the beatles\" / 30th march, 1964  by  the beatles\n",
      "345: rocky raccoon - 2018 mix  by  the beatles\n",
      "346: rocky raccoon - esher demo  by  the beatles\n",
      "347: rocky raccoon - remastered 2009  by  the beatles\n",
      "348: roll over beethoven - live / remastered  by  the beatles\n",
      "349: roll over beethoven - live at the bbc for \"from us to you say the beatles\" / 30th march, 1964  by  the beatles\n",
      "350: roll over beethoven - live at the bbc for \"pop go the beatles\" / 3rd september, 1963  by  the beatles\n",
      "351: run for your life - remastered 2009  by  the beatles\n",
      "352: savoy truffle - 2018 mix  by  the beatles\n",
      "353: savoy truffle - remastered 2009  by  the beatles\n",
      "354: sea of holes - remastered 2009  by  the beatles\n",
      "355: sea of monsters - remastered 2009  by  the beatles\n",
      "356: sea of time - remastered 2009  by  the beatles\n",
      "357: sexy sadie - 2018 mix  by  the beatles\n",
      "358: sexy sadie - esher demo  by  the beatles\n",
      "359: sexy sadie - remastered 2009  by  the beatles\n",
      "360: sgt pepper's lonely hearts club band  by  the beatles\n",
      "361: sgt. pepper's lonely hearts club band (reprise) - remix  by  the beatles\n",
      "362: sgt. pepper's lonely hearts club band (reprise) - speech and take 8  by  the beatles\n",
      "363: sgt. pepper's lonely hearts club band - remastered 2009  by  the beatles\n",
      "364: sgt. pepper's lonely hearts club band - remix  by  the beatles\n",
      "365: sgt. pepper's lonely hearts club band - reprise / remastered 2009  by  the beatles\n",
      "366: sgt. pepper's lonely hearts club band - take 1 / instrumental  by  the beatles\n",
      "367: sgt. pepper's lonely hearts club band - take 9 and speech  by  the beatles\n",
      "368: sha la la la la! - live at the bbc for \"pop go the beatles\" / 11th june, 1963  by  the beatles\n",
      "369: she came in through the bathroom window - 2019 mix  by  the beatles\n",
      "370: she came in through the bathroom window - rehearsal  by  the beatles\n",
      "371: she came in through the bathroom window - remastered 2009  by  the beatles\n",
      "372: she came in through the bathroom window - take 27  by  the beatles\n",
      "373: she loves you - live / remastered  by  the beatles\n",
      "374: she loves you - live at the bbc for \"saturday club\" / 5th october, 1963  by  the beatles\n",
      "375: she loves you - mono / remastered  by  the beatles\n",
      "376: she said she said - remastered 2009  by  the beatles\n",
      "377: she's a woman - live / remastered  by  the beatles\n",
      "378: she's a woman - live at the bbc for \"top gear\" / 26th november, 1964  by  the beatles\n",
      "379: she's leaving home - remastered 2009  by  the beatles\n",
      "380: she's leaving home - remix  by  the beatles\n",
      "381: she's leaving home - take 1 / instrumental  by  the beatles\n",
      "382: she's leaving home - take 6 / instrumental  by  the beatles\n",
      "383: silversonic - beatless  by  john tejada\n",
      "384: soldier of love - live at the bbc for \"pop go the beatles\" / 16th july, 1963  by  the beatles\n",
      "385: some other guy - live at the bbc for \"easy beat\" / 23rd june, 1963  by  the beatles\n",
      "386: something - 2019 mix  by  the beatles\n",
      "387: something - rehearsal / mono  by  the beatles\n",
      "388: something - remastered 2009  by  the beatles\n",
      "389: something - remastered 2015  by  the beatles\n",
      "390: something - studio demo  by  the beatles\n",
      "391: something - take 39 / instrumental / strings only  by  the beatles\n",
      "392: sour milk sea - esher demo  by  the beatles\n",
      "393: spectrum - beatless mix  by  meeting molly\n",
      "394: strawberry fields forever - remastered 2009  by  the beatles\n",
      "395: strawberry fields forever - stereo mix 2015  by  the beatles\n",
      "396: strawberry fields forever - take 1  by  the beatles\n",
      "397: strawberry fields forever - take 26  by  the beatles\n",
      "398: strawberry fields forever - take 4  by  the beatles\n",
      "399: strawberry fields forever - take 7  by  the beatles\n",
      "400: sun king - 2019 mix  by  the beatles\n",
      "401: sun king - remastered 2009  by  the beatles\n",
      "402: sun king - take 20  by  the beatles\n",
      "403: sure to fall (in love with you) - live at the bbc for \"pop go the beatles\" / 18th june, 1963  by  the beatles\n",
      "404: sure to fall (in love with you) - live at the bbc for \"pop go the beatles\" / 24th september, 1963  by  the beatles\n",
      "405: sweet little sixteen - live at the bbc for \"pop go the beatles\" / 23rd july, 1963  by  the beatles\n",
      "406: swivel - beatless mix  by  london elektricity\n",
      "407: taxman - remastered 2009  by  the beatles\n",
      "408: teddy boy - 1969 glyn johns mix  by  the beatles\n",
      "409: tenderless - beatless mix  by  london elektricity\n",
      "410: thank you girl - live at the bbc for \"easy beat\" / 23rd june, 1963  by  the beatles\n",
      "411: that's all right (mama) - live at the bbc for \"pop go the beatles\" / 16th july, 1963  by  the beatles\n",
      "412: the 49 weeks - live at the bbc for \"pop go the beatles\" / 24th september, 1963  by  the beatles\n",
      "413: the ballad of john and yoko - remastered 2015  by  the beatles\n",
      "414: the ballad of john and yoko - take 7  by  the beatles\n",
      "415: the beatles  by  devendra banhart\n",
      "416: the continuing story of bungalow bill - 2018 mix  by  the beatles\n",
      "417: the continuing story of bungalow bill - esher demo  by  the beatles\n",
      "418: the continuing story of bungalow bill - remastered 2009  by  the beatles\n",
      "419: the end - 2019 mix  by  the beatles\n",
      "420: the end - remastered 2009  by  the beatles\n",
      "421: the end - take 3  by  the beatles\n",
      "422: the fool on the hill - remastered 2009  by  the beatles\n",
      "423: the hippy hippy shake - live at the bbc for \"pop go the beatles\" / 10th september, 1963  by  the beatles\n",
      "424: the hippy hippy shake - live at the bbc for \"pop go the beatles\" / 30th july, 1963  by  the beatles\n",
      "425: the honeymoon song - live at the bbc for \"pop go the beatles\" / 6th august, 1963  by  the beatles\n",
      "426: the long and winding road - 2021 mix  by  the beatles\n",
      "427: the long and winding road - naked version / remastered 2013  by  the beatles\n",
      "428: the long and winding road - remastered 2009  by  the beatles\n",
      "429: the long and winding road - remastered 2015  by  the beatles\n",
      "430: the long and winding road - take 19  by  the beatles\n",
      "431: the long one - comprising of ‘you never give me your money’, ’sun king’/’mean mr mustard’, ‘her majesty’, ‘polythene pam’/’she came in through the bathroom window’, ’golden slumbers’/ ’carry that weight’, ’the end’  by  the beatles\n",
      "432: the walk - jam  by  the beatles\n",
      "433: the word - remastered 2009  by  the beatles\n",
      "434: there's a place - live at the bbc for \"pop go the beatles\" / 3rd september, 1963  by  the beatles\n",
      "435: things we said today - live / remastered  by  the beatles\n",
      "436: things we said today - live at the bbc for \"top gear\" / 16th july, 1964  by  the beatles\n",
      "437: think for yourself  by  the beatles\n",
      "438: think for yourself - remastered 2009  by  the beatles\n",
      "439: this boy - live at the bbc for \"saturday club\" / 21st december, 1963  by  the beatles\n",
      "440: ticket to ride - live / remastered  by  the beatles\n",
      "441: ticket to ride - remastered 2015  by  the beatles\n",
      "442: till there was you - live at the bbc for \"from us to you say the beatles\" / 10th march, 1964  by  the beatles\n",
      "443: till there was you - live at the bbc for \"pop go the beatles\" / 30th july, 1963  by  the beatles\n",
      "444: to know her is to love her - live at the bbc for \"pop go the beatles\" / 6th august, 1963  by  the beatles\n",
      "445: tomorrow never knows - remastered 2009  by  the beatles\n",
      "446: too much monkey business - live at the bbc for \"pop go the beatles\" / 10th september, 1963  by  the beatles\n",
      "447: twist and shout - live / remastered  by  the beatles\n",
      "448: twist and shout - live at the bbc for \"pop go the beatles\" / 6th august, 1963  by  the beatles\n",
      "449: two of us - 1969 glyn johns mix  by  the beatles\n",
      "450: two of us - 2021 mix  by  the beatles\n",
      "451: two of us - naked version / remastered 2013  by  the beatles\n",
      "452: two of us - remastered 2009  by  the beatles\n",
      "453: txt - beatless  by  deetron\n",
      "454: wait - remastered 2009  by  the beatles\n",
      "455: wake up little susie / i me mine - take 11  by  the beatles\n",
      "456: we can work it out - remastered 2015  by  the beatles\n",
      "457: what goes on - remastered 2009  by  the beatles\n",
      "458: what is it, george? - live at the bbc for \"pop go the beatles\" / 16th july, 1963  by  the beatles\n",
      "459: when i'm sixty four  by  the beatles\n",
      "460: when i'm sixty four - remastered 2009  by  the beatles\n",
      "461: when i'm sixty-four - remix  by  the beatles\n",
      "462: when i'm sixty-four - take 2  by  the beatles\n",
      "463: while my guitar gently weeps - 2018 mix  by  the beatles\n",
      "464: while my guitar gently weeps - esher demo  by  the beatles\n",
      "465: while my guitar gently weeps - remastered 2009  by  the beatles\n",
      "466: why don't we do it in the road? - 2018 mix  by  the beatles\n",
      "467: why don't we do it in the road? - remastered 2009  by  the beatles\n",
      "468: wild (beatless version)  by  tourist\n",
      "469: wild honey pie - 2018 mix  by  the beatles\n",
      "470: wild honey pie - remastered 2009  by  the beatles\n",
      "471: with a little help from my friends  by  the beatles\n",
      "472: with a little help from my friends - remastered 2009  by  the beatles\n",
      "473: with a little help from my friends - remix  by  the beatles\n",
      "474: with a little help from my friends - take 1 / false start and take 2 / instrumental  by  the beatles\n",
      "475: within you without you - george coaching the musicians  by  the beatles\n",
      "476: within you without you - remastered 2009  by  the beatles\n",
      "477: within you without you - remix  by  the beatles\n",
      "478: within you without you - take 1 / indian instruments  by  the beatles\n",
      "479: without a song - jam  by  the beatles\n",
      "480: words of love - live at the bbc for \"pop go the beatles\" / 20th august, 1963  by  the beatles\n",
      "481: yellow submarine  by  the beatles\n",
      "482: yellow submarine - remastered 2009  by  the beatles\n",
      "483: yellow submarine - remastered 2015  by  the beatles\n",
      "484: yellow submarine in pepperland - remastered 2009  by  the beatles\n",
      "485: yer blues - 2018 mix  by  the beatles\n",
      "486: yer blues - esher demo  by  the beatles\n",
      "487: yer blues - remastered 2009  by  the beatles\n",
      "488: yesterday - remastered 2015  by  the beatles\n",
      "489: you can't do that - live / bonus track  by  the beatles\n",
      "490: you never give me your money - 2019 mix  by  the beatles\n",
      "491: you never give me your money - remastered 2009  by  the beatles\n",
      "492: you never give me your money - take 36  by  the beatles\n",
      "493: you really got a hold on me - live at the bbc for \"saturday club\" / 24th august, 1963  by  the beatles\n",
      "494: you won't see me - remastered 2009  by  the beatles\n",
      "495: young blood - live at the bbc for \"pop go the beatles\" / 11th june, 1963  by  the beatles\n",
      "496: your mother should know - remastered 2009  by  the beatles\n"
     ]
    },
    {
     "name": "stdout",
     "output_type": "stream",
     "text": [
      "\n",
      "Enter choice number: 460\n",
      "\n",
      "Selected song: when i'm sixty four - remastered 2009  by  the beatles\n",
      "Your song is currently NOT hot!\n"
     ]
    },
    {
     "data": {
      "text/html": [
       "\n",
       "        <iframe\n",
       "            width=\"320\"\n",
       "            height=\"80\"\n",
       "            src=\"https://open.spotify.com/embed/track/1NrbnHlR2BFREcyWXHIHip?frameborder=0&allowtransparency=true&allow=encrypted-media\"\n",
       "            frameborder=\"0\"\n",
       "            allowfullscreen\n",
       "        ></iframe>\n",
       "        "
      ],
      "text/plain": [
       "<IPython.lib.display.IFrame at 0x1d12ef03e50>"
      ]
     },
     "metadata": {},
     "output_type": "display_data"
    },
    {
     "name": "stdout",
     "output_type": "stream",
     "text": [
      "\n",
      "But you might also like:\n",
      "black water - live, spring/summer 2013  by  edward sharpe & the magnetic zeros\n"
     ]
    },
    {
     "data": {
      "text/html": [
       "\n",
       "        <iframe\n",
       "            width=\"320\"\n",
       "            height=\"80\"\n",
       "            src=\"https://open.spotify.com/embed/track/1p2AKLb5i2gxWmEjekE3qV?frameborder=0&allowtransparency=true&allow=encrypted-media\"\n",
       "            frameborder=\"0\"\n",
       "            allowfullscreen\n",
       "        ></iframe>\n",
       "        "
      ],
      "text/plain": [
       "<IPython.lib.display.IFrame at 0x1d12ef03dc0>"
      ]
     },
     "metadata": {},
     "output_type": "display_data"
    }
   ],
   "source": [
    "user_input = input(\"Your choice: \")\n",
    "user_input_low = user_input.lower()\n",
    "track_name_iterator = filter(lambda x: user_input_low in x, df['title_artist'])\n",
    "filtered_songs = sorted(list(track_name_iterator))\n",
    "\n",
    "# More than 1 song left after filtering --> build a selection\n",
    "if len(filtered_songs) > 1:\n",
    "    # Deal with more than one song.\n",
    "    print('There are more than one song containing \"{0}\"'.format(user_input))\n",
    "    print('Select the song from choices: ')\n",
    "    for index, name in enumerate(filtered_songs):\n",
    "        print(\"{0}: {1}\".format(index, name))\n",
    "        \n",
    "# Ask for a choice from the list\n",
    "    index = int(input(\"\\nEnter choice number: \"))\n",
    "    # Check if song is in hot list\n",
    "    if Top100['title_artist'].str.contains(filtered_songs[index], case=False).sum() > 0:\n",
    "        song_id = (df['id'][df['title_artist'] == filtered_songs[index]]).values[0]\n",
    "        hot = Top100['title_artist'].sample(n=1).values[0]\n",
    "        print('Your song is very HOT at the moment!')\n",
    "        display(IFrame(src=f\"https://open.spotify.com/embed/track/{song_id}\",\n",
    "           width=\"320\",\n",
    "           height=\"80\",\n",
    "           frameborder=\"0\",\n",
    "           allowtransparency=\"true\",\n",
    "           allow=\"encrypted-media\",\n",
    "          ))                                   \n",
    "        print('\\nYou know what is also in the top?:\\n')\n",
    "        print(hot)\n",
    "        # Is the randomly chosen title from the top list in the big list? If yes, call the spotify widget!\n",
    "        if (df['title_artist'] == hot).sum() > 0:\n",
    "            hot_id = (df['id'][df['title_artist'] == hot]).values[0]\n",
    "            display(IFrame(src=f\"https://open.spotify.com/embed/track/{hot_id}\",\n",
    "               width=\"320\",\n",
    "               height=\"80\",\n",
    "               frameborder=\"0\",\n",
    "               allowtransparency=\"true\",\n",
    "               allow=\"encrypted-media\",\n",
    "              ))\n",
    "        else: pass \n",
    "    else:\n",
    "        song_id = (df['id'][df['title_artist'] == filtered_songs[index]]).values[0]\n",
    "        song_cluster = (df['cluster'][df['title_artist'] == filtered_songs[index]]).values[0]\n",
    "        suggestion = (df['title_artist'][df['cluster'] == song_cluster]).sample(n=1).values[0]\n",
    "        suggestion_id = (df['id'][df['title_artist'] == suggestion]).values[0]\n",
    "        print('\\nSelected song: {0}'.format(filtered_songs[index]))\n",
    "        print('Your song is currently NOT hot!')\n",
    " \n",
    "        display(IFrame(src=f\"https://open.spotify.com/embed/track/{song_id}\",\n",
    "           width=\"320\",\n",
    "           height=\"80\",\n",
    "           frameborder=\"0\",\n",
    "           allowtransparency=\"true\",\n",
    "           allow=\"encrypted-media\",\n",
    "          ))\n",
    "        print('\\nBut you might also like:\\n' + suggestion)\n",
    "        display(IFrame(src=f\"https://open.spotify.com/embed/track/{suggestion_id}\",\n",
    "           width=\"320\",\n",
    "           height=\"80\",\n",
    "           frameborder=\"0\",\n",
    "           allowtransparency=\"true\",\n",
    "           allow=\"encrypted-media\",\n",
    "          ))\n",
    "\n",
    "# If there's only one song after filtering    \n",
    "elif len(filtered_songs) == 1:\n",
    "    # Only one song found, so print that song.\n",
    "    # check if the song is in the hot list\n",
    "    if Top100['title_artist'].str.contains(filtered_songs[0], case=False).sum() > 0:\n",
    "        song_id = (df['id'][df['title_artist'] == filtered_songs[0]]).values[0]\n",
    "        hot = Top100['title_artist'].sample(n=1).values[0]\n",
    "        print('Your song is very HOT at the moment!')\n",
    "        display(IFrame(src=f\"https://open.spotify.com/embed/track/{song_id}\",\n",
    "           width=\"320\",\n",
    "           height=\"80\",\n",
    "           frameborder=\"0\",\n",
    "           allowtransparency=\"true\",\n",
    "           allow=\"encrypted-media\",\n",
    "          ))\n",
    "        print('\\nYou know what is also in the top?:\\n')\n",
    "        print(hot)\n",
    "        # Is the randomly chosen title from the top list in the big list? If yes, call the spotify widget!\n",
    "        if (df['title_artist'] == hot).sum() > 0:\n",
    "            hot_id = (df['id'][df['title_artist'] == hot]).values[0]\n",
    "            display(IFrame(src=f\"https://open.spotify.com/embed/track/{hot_id}\",\n",
    "               width=\"320\",\n",
    "               height=\"80\",\n",
    "               frameborder=\"0\",\n",
    "               allowtransparency=\"true\",\n",
    "               allow=\"encrypted-media\",\n",
    "              ))\n",
    "        else: pass\n",
    "    else:\n",
    "        song_id = (df['id'][df['title_artist'] == filtered_songs[0]]).values[0]\n",
    "        song_cluster = (df['cluster'][df['title_artist'] == filtered_songs[0]]).values[0]\n",
    "        suggestion = (df['title_artist'][df['cluster'] == song_cluster]).sample(n=1).values[0]\n",
    "        suggestion_id = (df['id'][df['title_artist'] == suggestion]).values[0]\n",
    "        print('\\nSelected song: {0}'.format(filtered_songs[0]))\n",
    "        print('Your song is currently NOT hot!')\n",
    "        display(IFrame(src=f\"https://open.spotify.com/embed/track/{song_id}\",\n",
    "           width=\"320\",\n",
    "           height=\"80\",\n",
    "           frameborder=\"0\",\n",
    "           allowtransparency=\"true\",\n",
    "           allow=\"encrypted-media\",\n",
    "          ))\n",
    "        print('\\nBut you might also like:\\n' + suggestion)\n",
    "        display(IFrame(src=f\"https://open.spotify.com/embed/track/{suggestion_id}\",\n",
    "           width=\"320\",\n",
    "           height=\"80\",\n",
    "           frameborder=\"0\",\n",
    "           allowtransparency=\"true\",\n",
    "           allow=\"encrypted-media\",\n",
    "          ))\n",
    "else:\n",
    "    print('Unfortunately, there is no song containing \"{0}\" in the list!'.format(user_input))"
   ]
  },
  {
   "cell_type": "code",
   "execution_count": null,
   "metadata": {},
   "outputs": [],
   "source": []
  }
 ],
 "metadata": {
  "celltoolbar": "Slideshow",
  "interpreter": {
   "hash": "9c829346dbfeebf68e991a09823a010cd364a5faadbed445a3ecf1e247d421bf"
  },
  "kernelspec": {
   "display_name": "Python 3 (ipykernel)",
   "language": "python",
   "name": "python3"
  },
  "language_info": {
   "codemirror_mode": {
    "name": "ipython",
    "version": 3
   },
   "file_extension": ".py",
   "mimetype": "text/x-python",
   "name": "python",
   "nbconvert_exporter": "python",
   "pygments_lexer": "ipython3",
   "version": "3.9.6"
  }
 },
 "nbformat": 4,
 "nbformat_minor": 2
}
